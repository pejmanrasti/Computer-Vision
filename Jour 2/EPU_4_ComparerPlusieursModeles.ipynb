{
  "nbformat": 4,
  "nbformat_minor": 0,
  "metadata": {
    "colab": {
      "provenance": [],
      "toc_visible": true,
      "include_colab_link": true
    },
    "kernelspec": {
      "name": "python3",
      "display_name": "Python 3"
    },
    "language_info": {
      "name": "python"
    }
  },
  "cells": [
    {
      "cell_type": "markdown",
      "metadata": {
        "id": "view-in-github",
        "colab_type": "text"
      },
      "source": [
        "<a href=\"https://colab.research.google.com/github/pejmanrasti/Computer-Vision/blob/main/Jour%202/EPU_4_ComparerPlusieursModeles.ipynb\" target=\"_parent\"><img src=\"https://colab.research.google.com/assets/colab-badge.svg\" alt=\"Open In Colab\"/></a>"
      ]
    },
    {
      "cell_type": "markdown",
      "source": [
        "**5. Evaluer plusieurs modèles**\n"
      ],
      "metadata": {
        "id": "bUZBcJkNNf-O"
      }
    },
    {
      "cell_type": "code",
      "execution_count": null,
      "metadata": {
        "id": "xTuxcNZhqXkP"
      },
      "outputs": [],
      "source": [
        "import os\n",
        "import warnings\n",
        "import math\n",
        "\n",
        "import sklearn\n",
        "from sklearn.model_selection import train_test_split, GridSearchCV, cross_val_score, cross_validate, cross_val_predict\n",
        "from sklearn.model_selection import RandomizedSearchCV,RepeatedStratifiedKFold, StratifiedKFold\n",
        "from sklearn import preprocessing\n",
        "from sklearn.metrics import confusion_matrix, balanced_accuracy_score, roc_curve\n",
        "from sklearn.linear_model import LogisticRegression\n",
        "from sklearn.ensemble import RandomForestClassifier\n",
        "from sklearn.discriminant_analysis import LinearDiscriminantAnalysis, QuadraticDiscriminantAnalysis\n",
        "from sklearn.metrics import make_scorer, roc_auc_score,precision_recall_curve, confusion_matrix, ConfusionMatrixDisplay\n",
        "from sklearn import metrics\n",
        "from sklearn.pipeline import Pipeline\n",
        "from sklearn.preprocessing import StandardScaler, MinMaxScaler\n",
        "from sklearn.feature_selection import SelectKBest, f_classif, mutual_info_classif\n",
        "from sklearn.feature_selection import  RFECV\n",
        "from sklearn.neighbors import KNeighborsClassifier\n",
        "from sklearn.ensemble import StackingClassifier, VotingClassifier\n",
        "from sklearn.svm import SVC\n",
        "from sklearn.decomposition import PCA\n",
        "\n",
        "import pandas as pd\n",
        "from pandas import read_csv\n",
        "\n",
        "import numpy as np\n",
        "from numpy import arange\n",
        "from numpy import mean\n",
        "from numpy import std\n",
        "from numpy import percentile\n",
        "\n",
        "from matplotlib import pyplot as plt\n",
        "\n",
        "from imblearn.under_sampling import RandomUnderSampler\n",
        "\n"
      ]
    },
    {
      "cell_type": "markdown",
      "source": [
        "# Import, séparation et rééchantillonnage des données\n"
      ],
      "metadata": {
        "id": "9T86MmY1qpMO"
      }
    },
    {
      "cell_type": "code",
      "source": [
        "df = read_csv(\"/content/DataSet_RegionPelvienne_Class.csv\", sep = \",\", header=0)\n",
        "df = df.drop(columns = [\"Unnamed: 0\"])\n",
        "\n",
        "y = df['Echec']\n",
        "z = df.drop('Echec', axis = 1)\n",
        "\n",
        "#On met de côté les données test qui seront utilisées à la fin\n",
        "X_train, X_test, Y_train, Y_test = train_test_split(z,y, test_size = 0.3,stratify=y, random_state=2023)\n",
        "\n",
        "#Rééchantillonnage\n",
        "rus = RandomUnderSampler(sampling_strategy={\n",
        "        0: len(Y_train[Y_train==1])*2,\n",
        "        1: len(Y_train[Y_train==1])\n",
        "\n",
        "    }, random_state=2023)\n",
        "X_train_res, Y_train_res = rus.fit_resample(X_train, Y_train)\n",
        "\n",
        "# Pour simplifier la suite on transforme les arrays de variables en dataframes\n",
        "X_train_res = pd.DataFrame(X_train_res, columns = z.columns)\n",
        "X_test = pd.DataFrame(X_test, columns = z.columns)\n",
        "\n"
      ],
      "metadata": {
        "id": "Nf4GpwVEqun0"
      },
      "execution_count": null,
      "outputs": []
    },
    {
      "cell_type": "markdown",
      "source": [
        "# Paramétrage des algorithmes"
      ],
      "metadata": {
        "id": "8gHWmuqaYEB0"
      }
    },
    {
      "cell_type": "code",
      "source": [
        "# On définit un dictionnaire qui regroupe pour chaque algo : le pipeline et les hyper-paramètres à tester pendant la recherche sur grille\n",
        "# Cette fois ci on utilise l'analyse en composantes principales pour réduire la dimension des variables. On demande de conserver 95% de la variance des données.\n",
        "model_params = {\n",
        "\n",
        "\n",
        "\n",
        "    'RF': {\n",
        "            'model': Pipeline([('scale', StandardScaler()), ('pca', PCA(n_components=0.95)),\n",
        "                               ('clf', RandomForestClassifier())]),\n",
        "            'params': {\n",
        "            'clf__n_estimators': [20, 50, 100, 150, 200],\n",
        "            'clf__max_depth' : [None, 5, 10, 15, 20, 50],\n",
        "            'clf__class_weight': [None, 'balanced', 'balanced_subsample']\n",
        "\n",
        "        }\n",
        "    },\n",
        "\n",
        "\n",
        "\n",
        "     'SVC' : {\n",
        "        'model' :  Pipeline([('scale', StandardScaler()),('pca', PCA(n_components=0.95)),\n",
        "                               ('clf', SVC(probability = True))]) ,\n",
        "        'params' : {\n",
        "            'clf__C': [0.1, 0.2, 0.5, 1, 2],\n",
        "            'clf__class_weight': [None, 'balanced']\n",
        "\n",
        "        }\n",
        "    },\n",
        "\n",
        "\n",
        "\n",
        "    'LR': {\n",
        "        'model': Pipeline([('scale', StandardScaler()),('pca', PCA(n_components=0.95)),\n",
        "                               ('clf', LogisticRegression())]),\n",
        "        'params': {\n",
        "            'clf__C': [0.05, 0.1, 0.5, 0.8, 1, 2, 3, 10],\n",
        "            'clf__class_weight': [None, 'balanced']\n",
        "\n",
        "\n",
        "            }\n",
        "    },\n",
        "\n",
        "\n",
        "\n",
        "    'KNN': {\n",
        "        'model':  Pipeline([('scale', StandardScaler()),('pca', PCA(n_components=0.95)),\n",
        "                               ('clf', KNeighborsClassifier())]),\n",
        "        'params':{\n",
        "            'clf__n_neighbors' : [5, 6, 7],\n",
        "\n",
        "        }\n",
        "    },\n",
        "\n",
        "\n",
        "    'QDA': {\n",
        "        'model':  Pipeline([('scale', StandardScaler()),('pca', PCA(n_components=0.95)),\n",
        "                               ('clf', QuadraticDiscriminantAnalysis())]),\n",
        "        'params':{\n",
        "            'clf__reg_param' : [0.0, 0.1, 0.2, 0.3, 0.4, 0.5, 0.6, 0.7],\n",
        "            'clf__tol' : [1e-08, 1e-07, 1e-06, 1e-05, 1e-04]\n",
        "\n",
        "        }\n",
        "    },\n",
        "\n",
        "\n",
        "}"
      ],
      "metadata": {
        "id": "InT0S7W48Yle"
      },
      "execution_count": null,
      "outputs": []
    },
    {
      "cell_type": "markdown",
      "source": [
        "# Paramétrage des métriques de performances"
      ],
      "metadata": {
        "id": "3dg_h4uMYJmS"
      }
    },
    {
      "cell_type": "code",
      "source": [
        "# Définition des métriques que l'on souhaite utiliser lors de la CV\n",
        "def AUC(clf, X, y_true):\n",
        "  #Aire sous la courbe ROC\n",
        "    y_pred_proba = clf.predict_proba(X)\n",
        "    return  roc_auc_score(y_true, y_pred_proba[:, 1])\n",
        "\n",
        "def AUPRC(clf, X, y_true):\n",
        "  #Aire sous la courbe PR\n",
        "    y_pred_proba = clf.predict_proba(X)\n",
        "    precision, recall, _ = precision_recall_curve(y_true, y_pred_proba[:, 1])\n",
        "    auc_score = metrics.auc(recall, precision)\n",
        "    return (auc_score)\n",
        "\n",
        "# On crée un dictionnaire des métriques qu'on veut évaluer pour les paramètres de la CV :\n",
        "metriques = {\"AUPRC\": AUPRC,\n",
        "        \"AUROC\": AUC}\n",
        "\n",
        "# Définition des métriques hors CV pour calculer AUROC et AUPRC sur les données test\n",
        "def AUC(orig, proba):\n",
        "    # ATTENTION : proba = probabilité prédite d'appartenir à la classe positive !\n",
        "    # Si proba = classe prédite ==> BIAIS\n",
        "    return  roc_auc_score(orig, proba[:, 1])\n",
        "def AUPRC(orig, proba):\n",
        "    precision, recall, _ = precision_recall_curve(orig, proba[:, 1])\n",
        "    auc_score = metrics.auc(recall, precision)\n",
        "    return (auc_score)"
      ],
      "metadata": {
        "id": "0VUFPH2rE3nA"
      },
      "execution_count": null,
      "outputs": []
    },
    {
      "cell_type": "markdown",
      "source": [
        "# Entrainement des modèles par défaut\n",
        "On va entrainer les modèles avec les hyper-paramètres définis par défaut dans les algo scikit."
      ],
      "metadata": {
        "id": "Q4IRUtkzYBt3"
      }
    },
    {
      "cell_type": "code",
      "source": [
        "%%time\n",
        "\n",
        "# On définit sur quelle métrique on veut ajuster les modèles lors de la CV\n",
        "# Si on ne calcule qu'une seule métrique lors de la CV, ce paramètre est inutile\n",
        "refit = 'AUROC'\n",
        "\n",
        "#On définit des arrays qui vont nous servir à stocker les résultats\n",
        "names = []\n",
        "AUPRCval, AUCval = [], []\n",
        "\n",
        "cv = RepeatedStratifiedKFold(n_splits=3, n_repeats = 5, random_state=2023)\n",
        "\n",
        "\n",
        "for model_name, mp in model_params.items():\n",
        "    print(\"> \", model_name)\n",
        "\n",
        "    scores = cross_validate(mp['model'], X_train_res, Y_train_res, scoring=metriques,\n",
        "                            cv=cv, n_jobs=-1, error_score='raise',return_train_score=False )\n",
        "\n",
        "    AUCval= np.append(AUCval,scores['test_AUROC']*100 )\n",
        "    AUPRCval= np.append(AUPRCval,scores['test_AUPRC']*100 )\n",
        "    for i in range (0, len(scores['test_AUROC'])) :\n",
        "        names.append(model_name)\n",
        "\n"
      ],
      "metadata": {
        "colab": {
          "base_uri": "https://localhost:8080/"
        },
        "id": "otbJ4FRaOC5k",
        "outputId": "4a0054d8-717c-493f-e3b5-76e9ce484536"
      },
      "execution_count": null,
      "outputs": [
        {
          "output_type": "stream",
          "name": "stdout",
          "text": [
            ">  RF\n",
            ">  SVC\n",
            ">  LR\n",
            ">  KNN\n",
            ">  QDA\n",
            "CPU times: user 558 ms, sys: 69.3 ms, total: 627 ms\n",
            "Wall time: 5.7 s\n"
          ]
        }
      ]
    },
    {
      "cell_type": "code",
      "source": [
        "# On stocke les résultats dans un dataframe\n",
        "Scores = pd.DataFrame({'Algorithme' : names, 'AUROC' : AUCval, 'AUPRC' : AUPRCval})"
      ],
      "metadata": {
        "id": "LCnq6667PFOf"
      },
      "execution_count": null,
      "outputs": []
    },
    {
      "cell_type": "code",
      "source": [
        "# On peut utiliser la bibliothèque Seaborn qui est une sorte de surcouche de matplotlib pour faire des graphes plus jolis\n",
        "import seaborn as sns\n",
        "\n",
        "#On va afficher 2 figures, pour AUROC et AUPRC\n",
        "fig, axes = plt.subplots(nrows=1, ncols=2, figsize=(8,5))\n",
        "\n",
        "#On sélectionne un style d'affichage défini dans les bibliothèques de seaborn\n",
        "sns.set_style(\"whitegrid\")\n",
        "\n",
        "#Affichage boxplots\n",
        "sns.boxplot(ax=axes[0],\n",
        "            x ='AUROC',\n",
        "            y = 'Algorithme',\n",
        "            data = Scores,\n",
        "            orient=\"h\",\n",
        "            color='darkorange',\n",
        "            showmeans=True,\n",
        "            meanprops={\"marker\":\"+\",\n",
        "                       \"markerfacecolor\":\"white\",\n",
        "                       \"markeredgecolor\":\"black\",\n",
        "                      \"markersize\":\"10\",\n",
        "                     }).set_title(\"AUROC (%)\", fontdict={'size':15},loc='left')\n",
        "\n",
        "#Pour ajouter les points en transparence dans les boxplots :\n",
        "sns.stripplot(ax=axes[0],\n",
        "              x ='AUROC',\n",
        "            y = 'Algorithme',\n",
        "            data = Scores,\n",
        "              color = 'black',\n",
        "              orient=\"h\",\n",
        "              size = 7,\n",
        "               marker='.',\n",
        "              linewidth = 0.5,\n",
        "              alpha = 0.2)\n",
        "#On peut ajouter une ligne verticale pour l'AUROC qui correspond à la valeur pour un modèle aléatoire\n",
        "axes[0].axvline(x = 50, color = 'black', ls='--', lw=2)\n",
        "axes[0].set_xlim([30, 100])\n",
        "\n",
        "\n",
        "sns.boxplot(ax=axes[1],\n",
        "            x ='AUPRC',\n",
        "            y = 'Algorithme',\n",
        "            data = Scores,\n",
        "            orient=\"h\",\n",
        "            color='darkorange',\n",
        "            showmeans=True,\n",
        "            meanprops={\"marker\":\"+\",\n",
        "                       \"markerfacecolor\":\"white\",\n",
        "                       \"markeredgecolor\":\"black\",\n",
        "                      \"markersize\":\"10\",\n",
        "                     }).set_title(\"AUPRC (%)\", fontdict={'size':15},loc='left')\n",
        "\n",
        "sns.stripplot(ax=axes[1],\n",
        "              x ='AUPRC',\n",
        "            y = 'Algorithme',\n",
        "            data = Scores,\n",
        "              color = 'black',\n",
        "              orient=\"h\",\n",
        "              size = 7,\n",
        "               marker='.',\n",
        "              linewidth = 0.5,\n",
        "              alpha = 0.2)\n",
        "axes[1].set_xlim([30, 100])\n",
        "#On peut ajouter une ligne verticale pour l'AUPRC aussi, qui correspond à la performance d'un modèle non informatif = taux de positifs = 33% ici\n",
        "axes[1].axvline(x = 33, color = 'black', ls='--', lw=2)\n",
        "\n",
        "\n",
        "fig.tight_layout()\n"
      ],
      "metadata": {
        "colab": {
          "base_uri": "https://localhost:8080/",
          "height": 507
        },
        "id": "cEIpbKE3O9Cu",
        "outputId": "68a0e03a-d9e3-4463-b818-326d59c12c1e"
      },
      "execution_count": null,
      "outputs": [
        {
          "output_type": "display_data",
          "data": {
            "text/plain": [
              "<Figure size 800x500 with 2 Axes>"
            ],
            "image/png": "[encoded data removed]"
          },
          "metadata": {}
        }
      ]
    },
    {
      "cell_type": "markdown",
      "source": [
        "\n",
        "\n",
        "---\n",
        "\n",
        "\n",
        "\n",
        "---\n",
        "\n"
      ],
      "metadata": {
        "id": "JkeeeTVKOScH"
      }
    },
    {
      "cell_type": "markdown",
      "source": [
        "**6. Réglage fin des modèles**"
      ],
      "metadata": {
        "id": "XwX3bIW0NoZ0"
      }
    },
    {
      "cell_type": "markdown",
      "source": [
        "# Ajustement des hyper-paramètres des modèles\n",
        "Maintenant, on va réaliser une recherche sur grille pour les hyper-paramètres définis dans le dictionnaire model_params."
      ],
      "metadata": {
        "id": "wKZl_4h5YUPN"
      }
    },
    {
      "cell_type": "code",
      "source": [
        "%%time\n",
        "\n",
        "# On définit sur quelle métrique on veut ajuster les modèles lors de la CV\n",
        "# Si on ne calcule qu'une seule métrique lors de la CV, ce paramètre est inutile\n",
        "refit = 'AUROC'\n",
        "\n",
        "#On définit des arrays qui vont nous servir à stocker les résultats\n",
        "names = []\n",
        "AUPRCval, AUCval = [], []\n",
        "\n",
        "\n",
        "cv = RepeatedStratifiedKFold(n_splits=3, n_repeats = 5, random_state=2023)\n",
        "for model_name, mp in model_params.items():\n",
        "    print(\"> \", model_name)\n",
        "    clf = GridSearchCV(mp['model'],\n",
        "                        mp['params'],\n",
        "                        cv=cv,\n",
        "                        return_train_score=False,\n",
        "                        scoring=metriques,\n",
        "                        refit = refit,\n",
        "                        error_score=\"raise\",\n",
        "                        n_jobs=-1)\n",
        "\n",
        "    clf.fit(X_train_res, Y_train_res)\n",
        "    results = clf.cv_results_\n",
        "    best_index = np.nonzero(results[\"rank_test_AUROC\"] == 1)[0][0]\n",
        "\n",
        "    # Au lieu de récupérer la valeur moyenne sur tous les folds de validation pour le set d'hyper-paramètres choisi,\n",
        "    # on récupère la valeur obtenue sur chaque fold de validation pour avoir la dispersion sous forme de boxplot et comparer avec les résultats précédents\n",
        "    # On boucle sur 15 folds car on demande une CV de 3 folds répétées 5x\n",
        "    for i in range (0, 15):\n",
        "      AUCval= np.append(AUCval,results['split%s_test_AUROC'%i][best_index]*100 )\n",
        "      AUPRCval= np.append(AUPRCval,results['split%s_test_AUPRC'%i][best_index]*100 )\n",
        "      names.append(model_name)\n"
      ],
      "metadata": {
        "colab": {
          "base_uri": "https://localhost:8080/"
        },
        "id": "DJJi_M1OE3u9",
        "outputId": "0643cac1-5f7c-4c7a-fa61-36fe0bdae6ed"
      },
      "execution_count": null,
      "outputs": [
        {
          "output_type": "stream",
          "name": "stdout",
          "text": [
            ">  RF\n",
            ">  SVC\n",
            ">  LR\n",
            ">  KNN\n",
            ">  QDA\n",
            "CPU times: user 14.1 s, sys: 1.07 s, total: 15.2 s\n",
            "Wall time: 5min 8s\n"
          ]
        }
      ]
    },
    {
      "cell_type": "code",
      "source": [
        "# On stocke les résultats dans un dataframe\n",
        "Scores_ajust = pd.DataFrame({'Algorithme' : names, 'AUROC' : AUCval, 'AUPRC' : AUPRCval})"
      ],
      "metadata": {
        "id": "ao36VTg1SXrd"
      },
      "execution_count": null,
      "outputs": []
    },
    {
      "cell_type": "code",
      "source": [
        "# On fusionne les deux dataframe\n",
        "Hyperparam = np.concatenate((np.repeat(\"Defaut\", len(Scores.Algorithme)), np.repeat(\"Ajustés\", len(Scores_ajust.Algorithme))))\n",
        "Scores_tot = pd.concat([Scores, Scores_ajust])\n",
        "Scores_tot[\"Hyper-paramètres\"] = Hyperparam\n",
        "Scores_tot.head()"
      ],
      "metadata": {
        "colab": {
          "base_uri": "https://localhost:8080/",
          "height": 206
        },
        "id": "d2cv7IcOSppL",
        "outputId": "2a1743bf-cd11-43db-f83f-e8e666e487a3"
      },
      "execution_count": null,
      "outputs": [
        {
          "output_type": "execute_result",
          "data": {
            "text/plain": [
              "  Algorithme      AUROC      AUPRC Hyper-paramètres\n",
              "0         RF  79.411765  68.299600           Defaut\n",
              "1         RF  75.298380  60.952105           Defaut\n",
              "2         RF  82.731092  70.598331           Defaut\n",
              "3         RF  79.518329  64.659156           Defaut\n",
              "4         RF  84.612106  68.316434           Defaut"
            ],
            "text/html": [
              "\n",
              "  <div id=\"df-3d68a34e-6ee0-48cd-ba5c-c18f0fd9a5ff\" class=\"colab-df-container\">\n",
              "    <div>\n",
              "<style scoped>\n",
              "    .dataframe tbody tr th:only-of-type {\n",
              "        vertical-align: middle;\n",
              "    }\n",
              "\n",
              "    .dataframe tbody tr th {\n",
              "        vertical-align: top;\n",
              "    }\n",
              "\n",
              "    .dataframe thead th {\n",
              "        text-align: right;\n",
              "    }\n",
              "</style>\n",
              "<table border=\"1\" class=\"dataframe\">\n",
              "  <thead>\n",
              "    <tr style=\"text-align: right;\">\n",
              "      <th></th>\n",
              "      <th>Algorithme</th>\n",
              "      <th>AUROC</th>\n",
              "      <th>AUPRC</th>\n",
              "      <th>Hyper-paramètres</th>\n",
              "    </tr>\n",
              "  </thead>\n",
              "  <tbody>\n",
              "    <tr>\n",
              "      <th>0</th>\n",
              "      <td>RF</td>\n",
              "      <td>79.411765</td>\n",
              "      <td>68.299600</td>\n",
              "      <td>Defaut</td>\n",
              "    </tr>\n",
              "    <tr>\n",
              "      <th>1</th>\n",
              "      <td>RF</td>\n",
              "      <td>75.298380</td>\n",
              "      <td>60.952105</td>\n",
              "      <td>Defaut</td>\n",
              "    </tr>\n",
              "    <tr>\n",
              "      <th>2</th>\n",
              "      <td>RF</td>\n",
              "      <td>82.731092</td>\n",
              "      <td>70.598331</td>\n",
              "      <td>Defaut</td>\n",
              "    </tr>\n",
              "    <tr>\n",
              "      <th>3</th>\n",
              "      <td>RF</td>\n",
              "      <td>79.518329</td>\n",
              "      <td>64.659156</td>\n",
              "      <td>Defaut</td>\n",
              "    </tr>\n",
              "    <tr>\n",
              "      <th>4</th>\n",
              "      <td>RF</td>\n",
              "      <td>84.612106</td>\n",
              "      <td>68.316434</td>\n",
              "      <td>Defaut</td>\n",
              "    </tr>\n",
              "  </tbody>\n",
              "</table>\n",
              "</div>\n",
              "    <div class=\"colab-df-buttons\">\n",
              "\n",
              "  <div class=\"colab-df-container\">\n",
              "    <button class=\"colab-df-convert\" onclick=\"convertToInteractive('df-3d68a34e-6ee0-48cd-ba5c-c18f0fd9a5ff')\"\n",
              "            title=\"Convert this dataframe to an interactive table.\"\n",
              "            style=\"display:none;\">\n",
              "\n",
              "  <svg xmlns=\"http://www.w3.org/2000/svg\" height=\"24px\" viewBox=\"0 -960 960 960\">\n",
              "    <path d=\"M120-120v-720h720v720H120Zm60-500h600v-160H180v160Zm220 220h160v-160H400v160Zm0 220h160v-160H400v160ZM180-400h160v-160H180v160Zm440 0h160v-160H620v160ZM180-180h160v-160H180v160Zm440 0h160v-160H620v160Z\"/>\n",
              "  </svg>\n",
              "    </button>\n",
              "\n",
              "  <style>\n",
              "    .colab-df-container {\n",
              "      display:flex;\n",
              "      gap: 12px;\n",
              "    }\n",
              "\n",
              "    .colab-df-convert {\n",
              "      background-color: #E8F0FE;\n",
              "      border: none;\n",
              "      border-radius: 50%;\n",
              "      cursor: pointer;\n",
              "      display: none;\n",
              "      fill: #1967D2;\n",
              "      height: 32px;\n",
              "      padding: 0 0 0 0;\n",
              "      width: 32px;\n",
              "    }\n",
              "\n",
              "    .colab-df-convert:hover {\n",
              "      background-color: #E2EBFA;\n",
              "      box-shadow: 0px 1px 2px rgba(60, 64, 67, 0.3), 0px 1px 3px 1px rgba(60, 64, 67, 0.15);\n",
              "      fill: #174EA6;\n",
              "    }\n",
              "\n",
              "    .colab-df-buttons div {\n",
              "      margin-bottom: 4px;\n",
              "    }\n",
              "\n",
              "    [theme=dark] .colab-df-convert {\n",
              "      background-color: #3B4455;\n",
              "      fill: #D2E3FC;\n",
              "    }\n",
              "\n",
              "    [theme=dark] .colab-df-convert:hover {\n",
              "      background-color: #434B5C;\n",
              "      box-shadow: 0px 1px 3px 1px rgba(0, 0, 0, 0.15);\n",
              "      filter: drop-shadow(0px 1px 2px rgba(0, 0, 0, 0.3));\n",
              "      fill: #FFFFFF;\n",
              "    }\n",
              "  </style>\n",
              "\n",
              "    <script>\n",
              "      const buttonEl =\n",
              "        document.querySelector('#df-3d68a34e-6ee0-48cd-ba5c-c18f0fd9a5ff button.colab-df-convert');\n",
              "      buttonEl.style.display =\n",
              "        google.colab.kernel.accessAllowed ? 'block' : 'none';\n",
              "\n",
              "      async function convertToInteractive(key) {\n",
              "        const element = document.querySelector('#df-3d68a34e-6ee0-48cd-ba5c-c18f0fd9a5ff');\n",
              "        const dataTable =\n",
              "          await google.colab.kernel.invokeFunction('convertToInteractive',\n",
              "                                                    [key], {});\n",
              "        if (!dataTable) return;\n",
              "\n",
              "        const docLinkHtml = 'Like what you see? Visit the ' +\n",
              "          '<a target=\"_blank\" href=https://colab.research.google.com/notebooks/data_table.ipynb>data table notebook</a>'\n",
              "          + ' to learn more about interactive tables.';\n",
              "        element.innerHTML = '';\n",
              "        dataTable['output_type'] = 'display_data';\n",
              "        await google.colab.output.renderOutput(dataTable, element);\n",
              "        const docLink = document.createElement('div');\n",
              "        docLink.innerHTML = docLinkHtml;\n",
              "        element.appendChild(docLink);\n",
              "      }\n",
              "    </script>\n",
              "  </div>\n",
              "\n",
              "\n",
              "<div id=\"df-ef7f9452-ecb8-4acb-99ef-a910d77df168\">\n",
              "  <button class=\"colab-df-quickchart\" onclick=\"quickchart('df-ef7f9452-ecb8-4acb-99ef-a910d77df168')\"\n",
              "            title=\"Suggest charts\"\n",
              "            style=\"display:none;\">\n",
              "\n",
              "<svg xmlns=\"http://www.w3.org/2000/svg\" height=\"24px\"viewBox=\"0 0 24 24\"\n",
              "     width=\"24px\">\n",
              "    <g>\n",
              "        <path d=\"M19 3H5c-1.1 0-2 .9-2 2v14c0 1.1.9 2 2 2h14c1.1 0 2-.9 2-2V5c0-1.1-.9-2-2-2zM9 17H7v-7h2v7zm4 0h-2V7h2v10zm4 0h-2v-4h2v4z\"/>\n",
              "    </g>\n",
              "</svg>\n",
              "  </button>\n",
              "\n",
              "<style>\n",
              "  .colab-df-quickchart {\n",
              "      --bg-color: #E8F0FE;\n",
              "      --fill-color: #1967D2;\n",
              "      --hover-bg-color: #E2EBFA;\n",
              "      --hover-fill-color: #174EA6;\n",
              "      --disabled-fill-color: #AAA;\n",
              "      --disabled-bg-color: #DDD;\n",
              "  }\n",
              "\n",
              "  [theme=dark] .colab-df-quickchart {\n",
              "      --bg-color: #3B4455;\n",
              "      --fill-color: #D2E3FC;\n",
              "      --hover-bg-color: #434B5C;\n",
              "      --hover-fill-color: #FFFFFF;\n",
              "      --disabled-bg-color: #3B4455;\n",
              "      --disabled-fill-color: #666;\n",
              "  }\n",
              "\n",
              "  .colab-df-quickchart {\n",
              "    background-color: var(--bg-color);\n",
              "    border: none;\n",
              "    border-radius: 50%;\n",
              "    cursor: pointer;\n",
              "    display: none;\n",
              "    fill: var(--fill-color);\n",
              "    height: 32px;\n",
              "    padding: 0;\n",
              "    width: 32px;\n",
              "  }\n",
              "\n",
              "  .colab-df-quickchart:hover {\n",
              "    background-color: var(--hover-bg-color);\n",
              "    box-shadow: 0 1px 2px rgba(60, 64, 67, 0.3), 0 1px 3px 1px rgba(60, 64, 67, 0.15);\n",
              "    fill: var(--button-hover-fill-color);\n",
              "  }\n",
              "\n",
              "  .colab-df-quickchart-complete:disabled,\n",
              "  .colab-df-quickchart-complete:disabled:hover {\n",
              "    background-color: var(--disabled-bg-color);\n",
              "    fill: var(--disabled-fill-color);\n",
              "    box-shadow: none;\n",
              "  }\n",
              "\n",
              "  .colab-df-spinner {\n",
              "    border: 2px solid var(--fill-color);\n",
              "    border-color: transparent;\n",
              "    border-bottom-color: var(--fill-color);\n",
              "    animation:\n",
              "      spin 1s steps(1) infinite;\n",
              "  }\n",
              "\n",
              "  @keyframes spin {\n",
              "    0% {\n",
              "      border-color: transparent;\n",
              "      border-bottom-color: var(--fill-color);\n",
              "      border-left-color: var(--fill-color);\n",
              "    }\n",
              "    20% {\n",
              "      border-color: transparent;\n",
              "      border-left-color: var(--fill-color);\n",
              "      border-top-color: var(--fill-color);\n",
              "    }\n",
              "    30% {\n",
              "      border-color: transparent;\n",
              "      border-left-color: var(--fill-color);\n",
              "      border-top-color: var(--fill-color);\n",
              "      border-right-color: var(--fill-color);\n",
              "    }\n",
              "    40% {\n",
              "      border-color: transparent;\n",
              "      border-right-color: var(--fill-color);\n",
              "      border-top-color: var(--fill-color);\n",
              "    }\n",
              "    60% {\n",
              "      border-color: transparent;\n",
              "      border-right-color: var(--fill-color);\n",
              "    }\n",
              "    80% {\n",
              "      border-color: transparent;\n",
              "      border-right-color: var(--fill-color);\n",
              "      border-bottom-color: var(--fill-color);\n",
              "    }\n",
              "    90% {\n",
              "      border-color: transparent;\n",
              "      border-bottom-color: var(--fill-color);\n",
              "    }\n",
              "  }\n",
              "</style>\n",
              "\n",
              "  <script>\n",
              "    async function quickchart(key) {\n",
              "      const quickchartButtonEl =\n",
              "        document.querySelector('#' + key + ' button');\n",
              "      quickchartButtonEl.disabled = true;  // To prevent multiple clicks.\n",
              "      quickchartButtonEl.classList.add('colab-df-spinner');\n",
              "      try {\n",
              "        const charts = await google.colab.kernel.invokeFunction(\n",
              "            'suggestCharts', [key], {});\n",
              "      } catch (error) {\n",
              "        console.error('Error during call to suggestCharts:', error);\n",
              "      }\n",
              "      quickchartButtonEl.classList.remove('colab-df-spinner');\n",
              "      quickchartButtonEl.classList.add('colab-df-quickchart-complete');\n",
              "    }\n",
              "    (() => {\n",
              "      let quickchartButtonEl =\n",
              "        document.querySelector('#df-ef7f9452-ecb8-4acb-99ef-a910d77df168 button');\n",
              "      quickchartButtonEl.style.display =\n",
              "        google.colab.kernel.accessAllowed ? 'block' : 'none';\n",
              "    })();\n",
              "  </script>\n",
              "</div>\n",
              "    </div>\n",
              "  </div>\n"
            ]
          },
          "metadata": {},
          "execution_count": 11
        }
      ]
    },
    {
      "cell_type": "code",
      "source": [
        "# On peut utiliser la bibliothèque Seaborn qui est une sorte de surcouche de matplotlib pour faire des graphes plus jolis\n",
        "import seaborn as sns\n",
        "\n",
        "#On va afficher 2 figures, pour AUROC et AUPRC\n",
        "fig, axes = plt.subplots(nrows=1, ncols=2, figsize=(10,5))\n",
        "\n",
        "#On sélectionne un style d'affichage défini dans les bibliothèques de seaborn\n",
        "sns.set_style(\"whitegrid\")\n",
        "\n",
        "#Affichage boxplots\n",
        "sns.boxplot(ax=axes[0],\n",
        "            x ='AUROC',\n",
        "            y = 'Algorithme',\n",
        "            data = Scores_tot,\n",
        "            hue = 'Hyper-paramètres', # On rajoute le paramètre hue qui va permettre de faire automatiquement la distinction entre les données par défaut et ajustées\n",
        "            orient=\"h\",\n",
        "            showmeans=True,\n",
        "            meanprops={\"marker\":\"+\",\n",
        "                       \"markerfacecolor\":\"white\",\n",
        "                       \"markeredgecolor\":\"black\",\n",
        "                      \"markersize\":\"10\",\n",
        "                     },\n",
        "            fliersize = 1,\n",
        "            linewidth = 1).set_title(\"AUROC (%)\", fontdict={'size':15},loc='left')\n",
        "#On peut ajouter une ligne verticale pour l'AUROC qui correspond à la valeur pour un modèle aléatoire\n",
        "axes[0].axvline(x = 50, color = 'black', ls='--', lw=2)\n",
        "axes[0].set_xlim([30, 100])\n",
        "axes[0].legend(title = 'Hyper-paramètres', bbox_to_anchor=(1.05, 1), loc=2, borderaxespad=0.)\n",
        "\n",
        "sns.boxplot(ax=axes[1],\n",
        "            x ='AUPRC',\n",
        "           y = 'Algorithme',\n",
        "            data = Scores_tot,\n",
        "            hue = 'Hyper-paramètres',\n",
        "            orient=\"h\",\n",
        "            showmeans=True,\n",
        "            meanprops={\"marker\":\"+\",\n",
        "                       \"markerfacecolor\":\"white\",\n",
        "                       \"markeredgecolor\":\"black\",\n",
        "                      \"markersize\":\"10\",\n",
        "                     },\n",
        "            fliersize = 1,\n",
        "            linewidth = 1).set_title(\"AUPRC (%)\", fontdict={'size':15},loc='left')\n",
        "\n",
        "axes[1].set_xlim([30, 100])\n",
        "axes[1].legend(title = 'Hyper-paramètres', bbox_to_anchor=(1.05, 1), loc=2, borderaxespad=0.)\n",
        "#On peut ajouter une ligne verticale pour l'AUPRC aussi, qui correspond à la performance d'un modèle non informatif = taux de positifs = 33% ici\n",
        "axes[1].axvline(x = 33, color = 'black', ls='--', lw=2)\n",
        "\n",
        "fig.tight_layout()\n"
      ],
      "metadata": {
        "colab": {
          "base_uri": "https://localhost:8080/",
          "height": 507
        },
        "id": "3cPp1VeeECIV",
        "outputId": "752be362-28a1-4f39-dd80-fc0e03a4c6b9"
      },
      "execution_count": null,
      "outputs": [
        {
          "output_type": "display_data",
          "data": {
            "text/plain": [
              "<Figure size 1000x500 with 2 Axes>"
            ],
            "image/png": "[encoded data removed]"
          },
          "metadata": {}
        }
      ]
    },
    {
      "cell_type": "markdown",
      "source": [
        "# Méthodes ensemblistes\n",
        "* Il existe 4 principales méthodes ensemblistes : le bagging, le boosting, le voting et le stacking\n",
        "* Ces méthodes reposent sur un ensemble de modèles \"faibles\" (aux performances individuelles médiocres) mais qui, combinés, permettent d'obtenir des prédictions robustes avec une variance réduite.\n",
        "* **Bagging** : on entraine un même algorithme sur plusieurs sous-ensembles des données d'entrainement, tirés aléatoirement. Chaque modèle est entrainé sur une petite partie des données et fourni donc des prédictions plus biaisées qu'un modèle qui aurait été entrainé sur la totalité des données. Cependant, en combinant les prédictions de chacun de ces modèles on peut parvenir à obtenir un biais équivalent à un modèle unique entrainé sur la totalité des données mais avec une variance plus faible. Les forêts aléatoires reposent sur le principe du bagging utilisé avec l'algorithme arbre de décision.\n",
        "* **Boosting** : on entraine un algorithme en séquentiel sur l'ensemble des données. A chaque itération, les performances du classifieur issu du prédécent entrainement sont corrigées pour entrainer le prochain classifieur. Il existe différentes méthodes pour appliquer des corrections (par exemple : modification du poids des observations pour l'adaptative boosting ou ajustement sur l'erreur résiduelle en gradient boosting)\n",
        "* **Voting** : cette méthode repose sur la combinaison de plusieurs algorithmes différents. Chaque algorithme est entrainé sur la totalité des donnés d'entrainement. La prédiction finale est obtenue de deux manières : hard voting (le vote rigide : la classe avec le plus grand nombre de votes est choisie) ou soft voting (vote souple : la classe avec la probabilité prédite moyenne la plus grande est choisie). Le vote souple est souvent préféré car plus de poids est accordé aux votes dont la probabilité est forte. Utiliser une diversité d'algorithmes permet d'augmenter les chances d'obtenir des erreurs différentes et donc de potentialiser l'intérêt de combiner les différentes prédictions.\n",
        "* **Stacking** : Même principe que le voting, mais au lieu d'utiliser le vote pour réaliser la prédiction finale, on entraine un algorithme pour apprendre à combiner les prédictions des classifieurs de base. On peut réaliser un empilement de classifieurs : la 1ère couche est entrainée sur les données d'entrainemenent, la 2ème couche est entrainée sur un jeux de données constitué des prédictions de la 1ère couche, etc etc.\n",
        "* **Sélection des algorithmes pour le voting et le stacking** : tout comme pour la sélection variables, il peut être intéressant de réaliser une sélection des meilleurs algorithmes à combiner dans une méthode ensembliste variée. Pour cela, on peut utiliser des méthodes analogues au RFE. La méthode du **pruning** (ou élagage) implique de supprimer un algorithme de l'ensemble, de réévaluer les performances de la méthode d'ensemble et de répéter cela pour chaque membre de l'ensemble. Si de meilleures performances sont obtenues après avoir supprimer un membre de l'ensemble, alors ce dernier est définitivement supprimé de l'ensemble et la procédure de suppression itérative est poursuivie jusqu'à ce qu'aucune amélioration des performances ne soit plus obtenue. La méthode du **growing** (ou croissance) commence au contraire avec un seul algorithme, celui de l'ensemble qui a les meilleures performances, et ajoute au fur et à mesure les algorithmes de l'ensemble."
      ],
      "metadata": {
        "id": "AdoIBV8-3Dw1"
      }
    },
    {
      "cell_type": "code",
      "source": [
        "%%time\n",
        "\n",
        "# Exemple : Méthode de stacking simple à 2 couches\n",
        "\n",
        "# On définit les classifieurs de base\n",
        "stacking_clf = [('RF', Pipeline([('scale', StandardScaler()),('pca', PCA(n_components=0.95)),\n",
        "                               ('clf', RandomForestClassifier(criterion = 'gini', max_features = 'sqrt', class_weight = 'balanced'))])),\n",
        "              ('LR', Pipeline([('scale', StandardScaler()),('pca', PCA(n_components=0.95)),\n",
        "                               ('clf',LogisticRegression(solver ='lbfgs', class_weight = 'balanced'))])),\n",
        "              ('KNN', Pipeline([('scale', StandardScaler()),('pca', PCA(n_components=0.95)),\n",
        "                               ('clf',KNeighborsClassifier(weights = 'distance'))])),\n",
        "              ('SVC', Pipeline([('scale', StandardScaler()),('pca', PCA(n_components=0.95)),\n",
        "                               ('clf', SVC(probability = True, max_iter=10000, kernel = 'linear', class_weight = 'balanced'))])),\n",
        "              ('QDA',  Pipeline([('scale', StandardScaler()),('pca', PCA(n_components=0.95)),\n",
        "                               ('clf',QuadraticDiscriminantAnalysis())])),\n",
        "             ]\n",
        "\n",
        "# On définit les paramètres à tester pour chaque classifieurs\n",
        "stacking_params = {\n",
        "            'RF__clf__n_estimators': [100, 150],\n",
        "            'RF__clf__max_depth' : [6, 8, 10, 12],\n",
        "\n",
        "            'SVC__clf__C': [0.1, 0.2, 0.5],\n",
        "\n",
        "            'LR__clf__C': [0.05, 0.1, 0.5, 0.8, 1],\n",
        "\n",
        "            'KNN__clf__n_neighbors': [4, 5, 6],\n",
        "\n",
        "            'QDA__clf__reg_param' : [0.0, 0.1, 0.2, 0.3, 0.4, 0.5, 0.6, 0.7],\n",
        "            'QDA__clf__tol' : [1e-08, 1e-07, 1e-06, 1e-05, 1e-04],\n",
        "\n",
        "            'final_estimator__C': [0.5, 0.8, 1, 5, 10]\n",
        "\n",
        "\n",
        "         }\n",
        "\n",
        "\n",
        "\n",
        "# On définit la cv de la recherche sur grille pour les hyper-paramètres\n",
        "cv = RepeatedStratifiedKFold(n_splits=3, n_repeats = 5, random_state=2023)\n",
        "\n",
        "# CV pour le méta-classifieur (classifieur qui combinent les prédictions de classifieurs de la 1ère couche)\n",
        "meta_cv = StratifiedKFold(n_splits=3, shuffle=True, random_state=2023)\n",
        "\n",
        "# Méta-classifieur. Il combine les prédictions des classifieurs de base en utilisant une régression logistique\n",
        "meta_model = StackingClassifier(estimators= stacking_clf , # 1ère couche : les classifieurs qui sont entrainés sur le jeu de données\n",
        "                                final_estimator= LogisticRegression(), # 2ème couche : l'algo qui combine les prédictions des classifieurs de la 1ère couche\n",
        "                                cv= meta_cv)\n",
        "\n",
        "# On réalise une recherche randomisée pour éviter que la recherche sur grille soit indéfiniment longue\n",
        "# En effet, ce n'est pas chaque combinaison d'hyper-paramètres pour chaque algo pris indépendamment qui est testée\n",
        "# mais toutes les combinaisons d'hyper-paramètres pour toutes les combinaisons d'algo possibles.\n",
        "clf = RandomizedSearchCV (estimator=meta_model,\n",
        "                        param_distributions=stacking_params,\n",
        "                        n_iter = 10,\n",
        "                        return_train_score=False,\n",
        "                       scoring=metriques,\n",
        "                          refit = 'AUROC',\n",
        "                        cv=cv,\n",
        "                        n_jobs=-1,\n",
        "                        random_state = 2023)\n",
        "\n",
        "clf.fit(X_train_res, Y_train_res)"
      ],
      "metadata": {
        "colab": {
          "base_uri": "https://localhost:8080/",
          "height": 384
        },
        "id": "ymtbkrbgLWWm",
        "outputId": "df7d25a0-d938-41d1-cc01-3ec4a4dee401"
      },
      "execution_count": null,
      "outputs": [
        {
          "output_type": "stream",
          "name": "stderr",
          "text": [
            "/usr/local/lib/python3.10/dist-packages/sklearn/svm/_base.py:299: ConvergenceWarning: Solver terminated early (max_iter=10000).  Consider pre-processing your data with StandardScaler or MinMaxScaler.\n",
            "  warnings.warn(\n",
            "/usr/local/lib/python3.10/dist-packages/sklearn/svm/_base.py:299: ConvergenceWarning: Solver terminated early (max_iter=10000).  Consider pre-processing your data with StandardScaler or MinMaxScaler.\n",
            "  warnings.warn(\n"
          ]
        },
        {
          "output_type": "stream",
          "name": "stdout",
          "text": [
            "CPU times: user 4.64 s, sys: 1.31 s, total: 5.95 s\n",
            "Wall time: 2min 52s\n"
          ]
        },
        {
          "output_type": "execute_result",
          "data": {
            "text/plain": [
              "RandomizedSearchCV(cv=RepeatedStratifiedKFold(n_repeats=5, n_splits=3, random_state=2023),\n",
              "                   estimator=StackingClassifier(cv=StratifiedKFold(n_splits=3, random_state=2023, shuffle=True),\n",
              "                                                estimators=[('RF',\n",
              "                                                             Pipeline(steps=[('scale',\n",
              "                                                                              StandardScaler()),\n",
              "                                                                             ('pca',\n",
              "                                                                              PCA(n_components=0.95)),\n",
              "                                                                             ('clf',\n",
              "                                                                              RandomForestClassifier(class_weight='balanced'))])),\n",
              "                                                            ('LR',\n",
              "                                                             Pipeline(steps...\n",
              "                                        'QDA__clf__reg_param': [0.0, 0.1, 0.2,\n",
              "                                                                0.3, 0.4, 0.5,\n",
              "                                                                0.6, 0.7],\n",
              "                                        'QDA__clf__tol': [1e-08, 1e-07, 1e-06,\n",
              "                                                          1e-05, 0.0001],\n",
              "                                        'RF__clf__max_depth': [6, 8, 10, 12],\n",
              "                                        'RF__clf__n_estimators': [100, 150],\n",
              "                                        'SVC__clf__C': [0.1, 0.2, 0.5],\n",
              "                                        'final_estimator__C': [0.5, 0.8, 1, 5,\n",
              "                                                               10]},\n",
              "                   random_state=2023, refit='AUROC',\n",
              "                   scoring={'AUPRC': <function AUPRC at 0x7e71dfb36e60>,\n",
              "                            'AUROC': <function AUC at 0x7e721badf0a0>})"
            ],
            "text/html": [
              "<style>#sk-container-id-6 {color: black;background-color: white;}#sk-container-id-6 pre{padding: 0;}#sk-container-id-6 div.sk-toggleable {background-color: white;}#sk-container-id-6 label.sk-toggleable__label {cursor: pointer;display: block;width: 100%;margin-bottom: 0;padding: 0.3em;box-sizing: border-box;text-align: center;}#sk-container-id-6 label.sk-toggleable__label-arrow:before {content: \"▸\";float: left;margin-right: 0.25em;color: #696969;}#sk-container-id-6 label.sk-toggleable__label-arrow:hover:before {color: black;}#sk-container-id-6 div.sk-estimator:hover label.sk-toggleable__label-arrow:before {color: black;}#sk-container-id-6 div.sk-toggleable__content {max-height: 0;max-width: 0;overflow: hidden;text-align: left;background-color: #f0f8ff;}#sk-container-id-6 div.sk-toggleable__content pre {margin: 0.2em;color: black;border-radius: 0.25em;background-color: #f0f8ff;}#sk-container-id-6 input.sk-toggleable__control:checked~div.sk-toggleable__content {max-height: 200px;max-width: 100%;overflow: auto;}#sk-container-id-6 input.sk-toggleable__control:checked~label.sk-toggleable__label-arrow:before {content: \"▾\";}#sk-container-id-6 div.sk-estimator input.sk-toggleable__control:checked~label.sk-toggleable__label {background-color: #d4ebff;}#sk-container-id-6 div.sk-label input.sk-toggleable__control:checked~label.sk-toggleable__label {background-color: #d4ebff;}#sk-container-id-6 input.sk-hidden--visually {border: 0;clip: rect(1px 1px 1px 1px);clip: rect(1px, 1px, 1px, 1px);height: 1px;margin: -1px;overflow: hidden;padding: 0;position: absolute;width: 1px;}#sk-container-id-6 div.sk-estimator {font-family: monospace;background-color: #f0f8ff;border: 1px dotted black;border-radius: 0.25em;box-sizing: border-box;margin-bottom: 0.5em;}#sk-container-id-6 div.sk-estimator:hover {background-color: #d4ebff;}#sk-container-id-6 div.sk-parallel-item::after {content: \"\";width: 100%;border-bottom: 1px solid gray;flex-grow: 1;}#sk-container-id-6 div.sk-label:hover label.sk-toggleable__label {background-color: #d4ebff;}#sk-container-id-6 div.sk-serial::before {content: \"\";position: absolute;border-left: 1px solid gray;box-sizing: border-box;top: 0;bottom: 0;left: 50%;z-index: 0;}#sk-container-id-6 div.sk-serial {display: flex;flex-direction: column;align-items: center;background-color: white;padding-right: 0.2em;padding-left: 0.2em;position: relative;}#sk-container-id-6 div.sk-item {position: relative;z-index: 1;}#sk-container-id-6 div.sk-parallel {display: flex;align-items: stretch;justify-content: center;background-color: white;position: relative;}#sk-container-id-6 div.sk-item::before, #sk-container-id-6 div.sk-parallel-item::before {content: \"\";position: absolute;border-left: 1px solid gray;box-sizing: border-box;top: 0;bottom: 0;left: 50%;z-index: -1;}#sk-container-id-6 div.sk-parallel-item {display: flex;flex-direction: column;z-index: 1;position: relative;background-color: white;}#sk-container-id-6 div.sk-parallel-item:first-child::after {align-self: flex-end;width: 50%;}#sk-container-id-6 div.sk-parallel-item:last-child::after {align-self: flex-start;width: 50%;}#sk-container-id-6 div.sk-parallel-item:only-child::after {width: 0;}#sk-container-id-6 div.sk-dashed-wrapped {border: 1px dashed gray;margin: 0 0.4em 0.5em 0.4em;box-sizing: border-box;padding-bottom: 0.4em;background-color: white;}#sk-container-id-6 div.sk-label label {font-family: monospace;font-weight: bold;display: inline-block;line-height: 1.2em;}#sk-container-id-6 div.sk-label-container {text-align: center;}#sk-container-id-6 div.sk-container {/* jupyter's `normalize.less` sets `[hidden] { display: none; }` but bootstrap.min.css set `[hidden] { display: none !important; }` so we also need the `!important` here to be able to override the default hidden behavior on the sphinx rendered scikit-learn.org. See: https://github.com/scikit-learn/scikit-learn/issues/21755 */display: inline-block !important;position: relative;}#sk-container-id-6 div.sk-text-repr-fallback {display: none;}</style><div id=\"sk-container-id-6\" class=\"sk-top-container\"><div class=\"sk-text-repr-fallback\"><pre>RandomizedSearchCV(cv=RepeatedStratifiedKFold(n_repeats=5, n_splits=3, random_state=2023),\n",
              "                   estimator=StackingClassifier(cv=StratifiedKFold(n_splits=3, random_state=2023, shuffle=True),\n",
              "                                                estimators=[(&#x27;RF&#x27;,\n",
              "                                                             Pipeline(steps=[(&#x27;scale&#x27;,\n",
              "                                                                              StandardScaler()),\n",
              "                                                                             (&#x27;pca&#x27;,\n",
              "                                                                              PCA(n_components=0.95)),\n",
              "                                                                             (&#x27;clf&#x27;,\n",
              "                                                                              RandomForestClassifier(class_weight=&#x27;balanced&#x27;))])),\n",
              "                                                            (&#x27;LR&#x27;,\n",
              "                                                             Pipeline(steps...\n",
              "                                        &#x27;QDA__clf__reg_param&#x27;: [0.0, 0.1, 0.2,\n",
              "                                                                0.3, 0.4, 0.5,\n",
              "                                                                0.6, 0.7],\n",
              "                                        &#x27;QDA__clf__tol&#x27;: [1e-08, 1e-07, 1e-06,\n",
              "                                                          1e-05, 0.0001],\n",
              "                                        &#x27;RF__clf__max_depth&#x27;: [6, 8, 10, 12],\n",
              "                                        &#x27;RF__clf__n_estimators&#x27;: [100, 150],\n",
              "                                        &#x27;SVC__clf__C&#x27;: [0.1, 0.2, 0.5],\n",
              "                                        &#x27;final_estimator__C&#x27;: [0.5, 0.8, 1, 5,\n",
              "                                                               10]},\n",
              "                   random_state=2023, refit=&#x27;AUROC&#x27;,\n",
              "                   scoring={&#x27;AUPRC&#x27;: &lt;function AUPRC at 0x7e71dfb36e60&gt;,\n",
              "                            &#x27;AUROC&#x27;: &lt;function AUC at 0x7e721badf0a0&gt;})</pre><b>In a Jupyter environment, please rerun this cell to show the HTML representation or trust the notebook. <br />On GitHub, the HTML representation is unable to render, please try loading this page with nbviewer.org.</b></div><div class=\"sk-container\" hidden><div class=\"sk-item sk-dashed-wrapped\"><div class=\"sk-label-container\"><div class=\"sk-label sk-toggleable\"><input class=\"sk-toggleable__control sk-hidden--visually\" id=\"sk-estimator-id-41\" type=\"checkbox\" ><label for=\"sk-estimator-id-41\" class=\"sk-toggleable__label sk-toggleable__label-arrow\">RandomizedSearchCV</label><div class=\"sk-toggleable__content\"><pre>RandomizedSearchCV(cv=RepeatedStratifiedKFold(n_repeats=5, n_splits=3, random_state=2023),\n",
              "                   estimator=StackingClassifier(cv=StratifiedKFold(n_splits=3, random_state=2023, shuffle=True),\n",
              "                                                estimators=[(&#x27;RF&#x27;,\n",
              "                                                             Pipeline(steps=[(&#x27;scale&#x27;,\n",
              "                                                                              StandardScaler()),\n",
              "                                                                             (&#x27;pca&#x27;,\n",
              "                                                                              PCA(n_components=0.95)),\n",
              "                                                                             (&#x27;clf&#x27;,\n",
              "                                                                              RandomForestClassifier(class_weight=&#x27;balanced&#x27;))])),\n",
              "                                                            (&#x27;LR&#x27;,\n",
              "                                                             Pipeline(steps...\n",
              "                                        &#x27;QDA__clf__reg_param&#x27;: [0.0, 0.1, 0.2,\n",
              "                                                                0.3, 0.4, 0.5,\n",
              "                                                                0.6, 0.7],\n",
              "                                        &#x27;QDA__clf__tol&#x27;: [1e-08, 1e-07, 1e-06,\n",
              "                                                          1e-05, 0.0001],\n",
              "                                        &#x27;RF__clf__max_depth&#x27;: [6, 8, 10, 12],\n",
              "                                        &#x27;RF__clf__n_estimators&#x27;: [100, 150],\n",
              "                                        &#x27;SVC__clf__C&#x27;: [0.1, 0.2, 0.5],\n",
              "                                        &#x27;final_estimator__C&#x27;: [0.5, 0.8, 1, 5,\n",
              "                                                               10]},\n",
              "                   random_state=2023, refit=&#x27;AUROC&#x27;,\n",
              "                   scoring={&#x27;AUPRC&#x27;: &lt;function AUPRC at 0x7e71dfb36e60&gt;,\n",
              "                            &#x27;AUROC&#x27;: &lt;function AUC at 0x7e721badf0a0&gt;})</pre></div></div></div><div class=\"sk-parallel\"><div class=\"sk-parallel-item\"><div class=\"sk-item\"><div class=\"sk-label-container\"><div class=\"sk-label sk-toggleable\"><input class=\"sk-toggleable__control sk-hidden--visually\" id=\"sk-estimator-id-42\" type=\"checkbox\" ><label for=\"sk-estimator-id-42\" class=\"sk-toggleable__label sk-toggleable__label-arrow\">estimator: StackingClassifier</label><div class=\"sk-toggleable__content\"><pre>StackingClassifier(cv=StratifiedKFold(n_splits=3, random_state=2023, shuffle=True),\n",
              "                   estimators=[(&#x27;RF&#x27;,\n",
              "                                Pipeline(steps=[(&#x27;scale&#x27;, StandardScaler()),\n",
              "                                                (&#x27;pca&#x27;, PCA(n_components=0.95)),\n",
              "                                                (&#x27;clf&#x27;,\n",
              "                                                 RandomForestClassifier(class_weight=&#x27;balanced&#x27;))])),\n",
              "                               (&#x27;LR&#x27;,\n",
              "                                Pipeline(steps=[(&#x27;scale&#x27;, StandardScaler()),\n",
              "                                                (&#x27;pca&#x27;, PCA(n_components=0.95)),\n",
              "                                                (&#x27;clf&#x27;,\n",
              "                                                 LogisticRegression(class_weight...\n",
              "                                                 KNeighborsClassifier(weights=&#x27;distance&#x27;))])),\n",
              "                               (&#x27;SVC&#x27;,\n",
              "                                Pipeline(steps=[(&#x27;scale&#x27;, StandardScaler()),\n",
              "                                                (&#x27;pca&#x27;, PCA(n_components=0.95)),\n",
              "                                                (&#x27;clf&#x27;,\n",
              "                                                 SVC(class_weight=&#x27;balanced&#x27;,\n",
              "                                                     kernel=&#x27;linear&#x27;,\n",
              "                                                     max_iter=10000,\n",
              "                                                     probability=True))])),\n",
              "                               (&#x27;QDA&#x27;,\n",
              "                                Pipeline(steps=[(&#x27;scale&#x27;, StandardScaler()),\n",
              "                                                (&#x27;pca&#x27;, PCA(n_components=0.95)),\n",
              "                                                (&#x27;clf&#x27;,\n",
              "                                                 QuadraticDiscriminantAnalysis())]))],\n",
              "                   final_estimator=LogisticRegression())</pre></div></div></div><div class=\"sk-serial\"><div class=\"sk-item\"><div class=\"sk-serial\"><div class=\"sk-item\"><div class=\"sk-parallel\"><div class=\"sk-parallel-item\"><div class=\"sk-item\"><div class=\"sk-label-container\"><div class=\"sk-label sk-toggleable\"><label>RF</label></div></div><div class=\"sk-serial\"><div class=\"sk-item\"><div class=\"sk-serial\"><div class=\"sk-item\"><div class=\"sk-estimator sk-toggleable\"><input class=\"sk-toggleable__control sk-hidden--visually\" id=\"sk-estimator-id-43\" type=\"checkbox\" ><label for=\"sk-estimator-id-43\" class=\"sk-toggleable__label sk-toggleable__label-arrow\">StandardScaler</label><div class=\"sk-toggleable__content\"><pre>StandardScaler()</pre></div></div></div><div class=\"sk-item\"><div class=\"sk-estimator sk-toggleable\"><input class=\"sk-toggleable__control sk-hidden--visually\" id=\"sk-estimator-id-44\" type=\"checkbox\" ><label for=\"sk-estimator-id-44\" class=\"sk-toggleable__label sk-toggleable__label-arrow\">PCA</label><div class=\"sk-toggleable__content\"><pre>PCA(n_components=0.95)</pre></div></div></div><div class=\"sk-item\"><div class=\"sk-estimator sk-toggleable\"><input class=\"sk-toggleable__control sk-hidden--visually\" id=\"sk-estimator-id-45\" type=\"checkbox\" ><label for=\"sk-estimator-id-45\" class=\"sk-toggleable__label sk-toggleable__label-arrow\">RandomForestClassifier</label><div class=\"sk-toggleable__content\"><pre>RandomForestClassifier(class_weight=&#x27;balanced&#x27;)</pre></div></div></div></div></div></div></div></div><div class=\"sk-parallel-item\"><div class=\"sk-item\"><div class=\"sk-label-container\"><div class=\"sk-label sk-toggleable\"><label>LR</label></div></div><div class=\"sk-serial\"><div class=\"sk-item\"><div class=\"sk-serial\"><div class=\"sk-item\"><div class=\"sk-estimator sk-toggleable\"><input class=\"sk-toggleable__control sk-hidden--visually\" id=\"sk-estimator-id-46\" type=\"checkbox\" ><label for=\"sk-estimator-id-46\" class=\"sk-toggleable__label sk-toggleable__label-arrow\">StandardScaler</label><div class=\"sk-toggleable__content\"><pre>StandardScaler()</pre></div></div></div><div class=\"sk-item\"><div class=\"sk-estimator sk-toggleable\"><input class=\"sk-toggleable__control sk-hidden--visually\" id=\"sk-estimator-id-47\" type=\"checkbox\" ><label for=\"sk-estimator-id-47\" class=\"sk-toggleable__label sk-toggleable__label-arrow\">PCA</label><div class=\"sk-toggleable__content\"><pre>PCA(n_components=0.95)</pre></div></div></div><div class=\"sk-item\"><div class=\"sk-estimator sk-toggleable\"><input class=\"sk-toggleable__control sk-hidden--visually\" id=\"sk-estimator-id-48\" type=\"checkbox\" ><label for=\"sk-estimator-id-48\" class=\"sk-toggleable__label sk-toggleable__label-arrow\">LogisticRegression</label><div class=\"sk-toggleable__content\"><pre>LogisticRegression(class_weight=&#x27;balanced&#x27;)</pre></div></div></div></div></div></div></div></div><div class=\"sk-parallel-item\"><div class=\"sk-item\"><div class=\"sk-label-container\"><div class=\"sk-label sk-toggleable\"><label>KNN</label></div></div><div class=\"sk-serial\"><div class=\"sk-item\"><div class=\"sk-serial\"><div class=\"sk-item\"><div class=\"sk-estimator sk-toggleable\"><input class=\"sk-toggleable__control sk-hidden--visually\" id=\"sk-estimator-id-49\" type=\"checkbox\" ><label for=\"sk-estimator-id-49\" class=\"sk-toggleable__label sk-toggleable__label-arrow\">StandardScaler</label><div class=\"sk-toggleable__content\"><pre>StandardScaler()</pre></div></div></div><div class=\"sk-item\"><div class=\"sk-estimator sk-toggleable\"><input class=\"sk-toggleable__control sk-hidden--visually\" id=\"sk-estimator-id-50\" type=\"checkbox\" ><label for=\"sk-estimator-id-50\" class=\"sk-toggleable__label sk-toggleable__label-arrow\">PCA</label><div class=\"sk-toggleable__content\"><pre>PCA(n_components=0.95)</pre></div></div></div><div class=\"sk-item\"><div class=\"sk-estimator sk-toggleable\"><input class=\"sk-toggleable__control sk-hidden--visually\" id=\"sk-estimator-id-51\" type=\"checkbox\" ><label for=\"sk-estimator-id-51\" class=\"sk-toggleable__label sk-toggleable__label-arrow\">KNeighborsClassifier</label><div class=\"sk-toggleable__content\"><pre>KNeighborsClassifier(weights=&#x27;distance&#x27;)</pre></div></div></div></div></div></div></div></div><div class=\"sk-parallel-item\"><div class=\"sk-item\"><div class=\"sk-label-container\"><div class=\"sk-label sk-toggleable\"><label>SVC</label></div></div><div class=\"sk-serial\"><div class=\"sk-item\"><div class=\"sk-serial\"><div class=\"sk-item\"><div class=\"sk-estimator sk-toggleable\"><input class=\"sk-toggleable__control sk-hidden--visually\" id=\"sk-estimator-id-52\" type=\"checkbox\" ><label for=\"sk-estimator-id-52\" class=\"sk-toggleable__label sk-toggleable__label-arrow\">StandardScaler</label><div class=\"sk-toggleable__content\"><pre>StandardScaler()</pre></div></div></div><div class=\"sk-item\"><div class=\"sk-estimator sk-toggleable\"><input class=\"sk-toggleable__control sk-hidden--visually\" id=\"sk-estimator-id-53\" type=\"checkbox\" ><label for=\"sk-estimator-id-53\" class=\"sk-toggleable__label sk-toggleable__label-arrow\">PCA</label><div class=\"sk-toggleable__content\"><pre>PCA(n_components=0.95)</pre></div></div></div><div class=\"sk-item\"><div class=\"sk-estimator sk-toggleable\"><input class=\"sk-toggleable__control sk-hidden--visually\" id=\"sk-estimator-id-54\" type=\"checkbox\" ><label for=\"sk-estimator-id-54\" class=\"sk-toggleable__label sk-toggleable__label-arrow\">SVC</label><div class=\"sk-toggleable__content\"><pre>SVC(class_weight=&#x27;balanced&#x27;, kernel=&#x27;linear&#x27;, max_iter=10000, probability=True)</pre></div></div></div></div></div></div></div></div><div class=\"sk-parallel-item\"><div class=\"sk-item\"><div class=\"sk-label-container\"><div class=\"sk-label sk-toggleable\"><label>QDA</label></div></div><div class=\"sk-serial\"><div class=\"sk-item\"><div class=\"sk-serial\"><div class=\"sk-item\"><div class=\"sk-estimator sk-toggleable\"><input class=\"sk-toggleable__control sk-hidden--visually\" id=\"sk-estimator-id-55\" type=\"checkbox\" ><label for=\"sk-estimator-id-55\" class=\"sk-toggleable__label sk-toggleable__label-arrow\">StandardScaler</label><div class=\"sk-toggleable__content\"><pre>StandardScaler()</pre></div></div></div><div class=\"sk-item\"><div class=\"sk-estimator sk-toggleable\"><input class=\"sk-toggleable__control sk-hidden--visually\" id=\"sk-estimator-id-56\" type=\"checkbox\" ><label for=\"sk-estimator-id-56\" class=\"sk-toggleable__label sk-toggleable__label-arrow\">PCA</label><div class=\"sk-toggleable__content\"><pre>PCA(n_components=0.95)</pre></div></div></div><div class=\"sk-item\"><div class=\"sk-estimator sk-toggleable\"><input class=\"sk-toggleable__control sk-hidden--visually\" id=\"sk-estimator-id-57\" type=\"checkbox\" ><label for=\"sk-estimator-id-57\" class=\"sk-toggleable__label sk-toggleable__label-arrow\">QuadraticDiscriminantAnalysis</label><div class=\"sk-toggleable__content\"><pre>QuadraticDiscriminantAnalysis()</pre></div></div></div></div></div></div></div></div></div></div><div class=\"sk-item\"><div class=\"sk-parallel\"><div class=\"sk-parallel-item\"><div class=\"sk-item\"><div class=\"sk-label-container\"><div class=\"sk-label sk-toggleable\"><label>final_estimator</label></div></div><div class=\"sk-serial\"><div class=\"sk-item\"><div class=\"sk-estimator sk-toggleable\"><input class=\"sk-toggleable__control sk-hidden--visually\" id=\"sk-estimator-id-58\" type=\"checkbox\" ><label for=\"sk-estimator-id-58\" class=\"sk-toggleable__label sk-toggleable__label-arrow\">LogisticRegression</label><div class=\"sk-toggleable__content\"><pre>LogisticRegression()</pre></div></div></div></div></div></div></div></div></div></div></div></div></div></div></div></div></div>"
            ]
          },
          "metadata": {},
          "execution_count": 31
        }
      ]
    },
    {
      "cell_type": "code",
      "source": [
        "results = clf.cv_results_\n",
        "best_index = np.nonzero(results[\"rank_test_AUROC\"] == 1)[0][0]\n",
        "\n",
        "AUCval = []\n",
        "AUPRCval = []\n",
        "names = []\n",
        "# Au lieu de récupérer la valeur moyenne sur tous les folds de validation pour le set d'hyper-paramètres choisi,\n",
        "# on récupère la valeur obtenue sur chaque fold de validation pour avoir la dispersion sous forme de boxplot et comparer avec les résultats précédents\n",
        "# On boucle sur 15 folds car on demande une CV de 3 folds répétées 5x\n",
        "for i in range (0, 15):\n",
        "  AUCval= np.append(AUCval,results['split%s_test_AUROC'%i][best_index]*100 )\n",
        "  AUPRCval= np.append(AUPRCval,results['split%s_test_AUPRC'%i][best_index]*100 )\n",
        "  names.append(\"metamodel\")\n",
        "\n",
        "\n",
        "# On crée un DataFrame\n",
        "Scores_meta = pd.DataFrame({'Algorithme' : names, 'AUROC' : AUCval, 'AUPRC' : AUPRCval})"
      ],
      "metadata": {
        "id": "SmT5A_K3O_y2"
      },
      "execution_count": null,
      "outputs": []
    },
    {
      "cell_type": "code",
      "source": [
        "# On fusionne avec les résultats précédents :\n",
        "Scores_all = pd.concat([Scores_ajust, Scores_meta])"
      ],
      "metadata": {
        "id": "WvE0tKNnekdY"
      },
      "execution_count": null,
      "outputs": []
    },
    {
      "cell_type": "code",
      "source": [
        "# On peut utiliser la bibliothèque Seaborn qui est une sorte de surcouche de matplotlib pour faire des graphes plus jolis\n",
        "import seaborn as sns\n",
        "\n",
        "#On va afficher 2 figures, pour AUROC et AUPRC\n",
        "fig, axes = plt.subplots(nrows=1, ncols=2, figsize=(8,5))\n",
        "\n",
        "#On sélectionne un style d'affichage défini dans les bibliothèques de seaborn\n",
        "sns.set_style(\"whitegrid\")\n",
        "\n",
        "#Affichage boxplots\n",
        "sns.boxplot(ax=axes[0],\n",
        "            x ='AUROC',\n",
        "            y = 'Algorithme',\n",
        "            data = Scores_all,\n",
        "            orient=\"h\",\n",
        "            color='darkorange',\n",
        "            showmeans=True,\n",
        "            meanprops={\"marker\":\"+\",\n",
        "                       \"markerfacecolor\":\"white\",\n",
        "                       \"markeredgecolor\":\"black\",\n",
        "                      \"markersize\":\"10\",\n",
        "                     }).set_title(\"AUROC (%)\", fontdict={'size':15},loc='left')\n",
        "\n",
        "#Pour ajouter les points en transparence dans les boxplots :\n",
        "sns.stripplot(ax=axes[0],\n",
        "              x ='AUROC',\n",
        "            y = 'Algorithme',\n",
        "            data = Scores_all,\n",
        "              color = 'black',\n",
        "              orient=\"h\",\n",
        "              size = 7,\n",
        "               marker='.',\n",
        "              linewidth = 0.5,\n",
        "              alpha = 0.2)\n",
        "#On peut ajouter une ligne verticale pour l'AUROC qui correspond à la valeur pour un modèle aléatoire\n",
        "axes[0].axvline(x = 50, color = 'black', ls='--', lw=2)\n",
        "axes[0].set_xlim([30, 100])\n",
        "\n",
        "\n",
        "sns.boxplot(ax=axes[1],\n",
        "            x ='AUPRC',\n",
        "            y = 'Algorithme',\n",
        "            data = Scores_all,\n",
        "            orient=\"h\",\n",
        "            color='darkorange',\n",
        "            showmeans=True,\n",
        "            meanprops={\"marker\":\"+\",\n",
        "                       \"markerfacecolor\":\"white\",\n",
        "                       \"markeredgecolor\":\"black\",\n",
        "                      \"markersize\":\"10\",\n",
        "                     }).set_title(\"AUPRC (%)\", fontdict={'size':15},loc='left')\n",
        "\n",
        "sns.stripplot(ax=axes[1],\n",
        "              x ='AUPRC',\n",
        "            y = 'Algorithme',\n",
        "            data = Scores_all,\n",
        "              color = 'black',\n",
        "              orient=\"h\",\n",
        "              size = 7,\n",
        "               marker='.',\n",
        "              linewidth = 0.5,\n",
        "              alpha = 0.2)\n",
        "axes[1].set_xlim([30, 100])\n",
        "#On peut ajouter une ligne verticale pour l'AUPRC aussi, qui correspond à la performance d'un modèle non informatif = taux de positifs = 33% ici\n",
        "axes[1].axvline(x = 33, color = 'black', ls='--', lw=2)\n",
        "\n",
        "\n",
        "fig.tight_layout()\n"
      ],
      "metadata": {
        "colab": {
          "base_uri": "https://localhost:8080/",
          "height": 507
        },
        "id": "ZJJkRWGGe0Vi",
        "outputId": "fcab9f6e-d6af-4a73-e1e1-87f30d69b765"
      },
      "execution_count": null,
      "outputs": [
        {
          "output_type": "display_data",
          "data": {
            "text/plain": [
              "<Figure size 800x500 with 2 Axes>"
            ],
            "image/png": "[encoded data removed]"
          },
          "metadata": {}
        }
      ]
    },
    {
      "cell_type": "markdown",
      "source": [
        "*Pour aller plus loin : tester d'autres algorithmes pour le méta-classifieur et tester le vote simple et le vote souple avec la fonction VotingClassifier de scikit*"
      ],
      "metadata": {
        "id": "p6EsiTbNM9Kj"
      }
    },
    {
      "cell_type": "markdown",
      "source": [
        "# Sélection et évaluation du modèle final"
      ],
      "metadata": {
        "id": "68MCTqF3Ydi3"
      }
    },
    {
      "cell_type": "code",
      "source": [
        "%%time\n",
        "\n",
        "# Si on décide que le SVM est le plus adapté\n",
        "\n",
        "refit = 'AUROC'\n",
        "\n",
        "#On définit des arrays qui vont nous servir à stocker les résultats\n",
        "names = []\n",
        "AUPRCval, AUCval = [], []\n",
        "\n",
        "cv = RepeatedStratifiedKFold(n_splits=3, n_repeats = 5, random_state=2023)\n",
        "\n",
        "\n",
        "for model_name, mp in model_params.items():\n",
        "    if model_name == \"SVC\":\n",
        "      print(\"> \", model_name)\n",
        "      clf = GridSearchCV(mp['model'],\n",
        "                          mp['params'],\n",
        "                          cv=cv,\n",
        "                          return_train_score=False,\n",
        "                          scoring=metriques,\n",
        "                          refit = refit,\n",
        "                          error_score=\"raise\",\n",
        "                          n_jobs=-1)\n",
        "\n",
        "      clf.fit(X_train_res, Y_train_res)\n",
        "      results = clf.cv_results_\n",
        "      best_index = np.nonzero(results[\"rank_test_AUROC\"] == 1)[0][0]\n",
        "      model_final =  mp['model'].set_params(**results[\"params\"][best_index]).fit(X_train_res, Y_train_res)\n",
        "\n"
      ],
      "metadata": {
        "colab": {
          "base_uri": "https://localhost:8080/"
        },
        "id": "gE0IDtYoKS9x",
        "outputId": "33300458-efd9-42d6-ecf0-a246a153f9f7"
      },
      "execution_count": null,
      "outputs": [
        {
          "output_type": "stream",
          "name": "stdout",
          "text": [
            ">  SVC\n",
            "CPU times: user 604 ms, sys: 179 ms, total: 783 ms\n",
            "Wall time: 10.4 s\n"
          ]
        }
      ]
    },
    {
      "cell_type": "code",
      "source": [
        "#Prédictions sur les données d'entrainement\n",
        "Y_train_proba = model_final.predict_proba(X_train_res)\n",
        "\n",
        "#Prédictions des données test\n",
        "Y_test_proba = model_final.predict_proba(X_test)\n"
      ],
      "metadata": {
        "id": "j6GgryaCZElV"
      },
      "execution_count": null,
      "outputs": []
    },
    {
      "cell_type": "code",
      "source": [
        "# Evaluation des données test\n",
        "def plot_roc_curve(fpr, tpr, label=None):\n",
        "    plt.plot(fpr, tpr, linewidth=2, label=label)\n",
        "    plt.plot([0, 1], [0, 1], linestyle='dotted', color = 'grey', label = 'Classifieur aléatoire, AUROC = 0.5')\n",
        "    plt.axis([0, 1, 0, 1])\n",
        "    plt.xlabel('FPR (1 - spécificité)', fontsize=16)\n",
        "    plt.ylabel('TPR (Rappel)', fontsize=16)\n",
        "    plt.grid(True)\n",
        "\n",
        "# Attention pour calculer la courbe ROC il faut toujours utiliser les probabilités et non les classes prédites.\n",
        "# Ici on s'intéresse à la classe 1 donc on utilise les probabilités de la seconde colonne de Y_proba_LR\n",
        "auc_test = round(roc_auc_score(Y_test, Y_test_proba[:, 1]), 2)\n",
        "auc_train = round(roc_auc_score(Y_train_res, Y_train_proba[:, 1]), 2)\n",
        "fpr_test, tpr_test, thresholds_test = roc_curve(Y_test, Y_test_proba[:, 1])\n",
        "fpr_train, tpr_train, thresholds_train = roc_curve(Y_train_res, Y_train_proba[:, 1])\n",
        "plt.figure(figsize=(8, 6))\n",
        "plt.plot(fpr_train, tpr_train, label = \"AUROC train = \" + str(auc_train))\n",
        "plot_roc_curve(fpr_test, tpr_test, label = \"AUROC test = \" + str(auc_test))\n",
        "plt.legend(loc = 'lower right')\n",
        "plt.show()"
      ],
      "metadata": {
        "colab": {
          "base_uri": "https://localhost:8080/",
          "height": 555
        },
        "id": "Tr4daTLFbnF3",
        "outputId": "63816576-2e18-4679-b338-c4482e91a31c"
      },
      "execution_count": null,
      "outputs": [
        {
          "output_type": "display_data",
          "data": {
            "text/plain": [
              "<Figure size 800x600 with 1 Axes>"
            ],
            "image/png": "[encoded data removed]"
          },
          "metadata": {}
        }
      ]
    },
    {
      "cell_type": "markdown",
      "source": [
        "> On s'attend à ce que les performances du modèle soit bien supérieures sur les données d'entrainement puisqu'il les a déjà vues pendant l'entrainement.\n",
        "\n",
        "> Pour estimer l'**erreur de généralisation**, il faut comparer les performances sur les données test avec les performances obtenues sur les folds de validation lors de la CV.\n",
        "\n",
        "> L'estimation de l'erreur de généralisation est une étape importante car elle permet de s'assurer que le modèle n'est pas sur-ajusté sur les données d'entrainement."
      ],
      "metadata": {
        "id": "tynZdWXdc4Pv"
      }
    },
    {
      "cell_type": "code",
      "source": [
        "# Comparaison des AUROC entre validation et test\n",
        "print(\"AUROC validation = \", round(results['mean_test_AUROC'][best_index]*100, 1), \"% +-\", round(results['std_test_AUROC'][best_index]*100, 1), \"%\")\n",
        "print(\"AUROC test = \", auc_test*100, \"%\")"
      ],
      "metadata": {
        "colab": {
          "base_uri": "https://localhost:8080/"
        },
        "id": "CTKDmy_GbDG4",
        "outputId": "aa8c10db-d09d-472a-c5c2-efd2774ed878"
      },
      "execution_count": null,
      "outputs": [
        {
          "output_type": "stream",
          "name": "stdout",
          "text": [
            "AUROC validation =  81.0 % +- 4.0 %\n",
            "AUROC test =  86.0 %\n"
          ]
        }
      ]
    },
    {
      "cell_type": "code",
      "source": [
        "# Résultats prédits en fonction du seuil de décision sur les données d'entrainement\n",
        "seuil = 0.5\n",
        "y_train_pred = np.where(Y_train_proba[:, 1] > seuil, 1, 0)\n",
        "\n",
        "cm = confusion_matrix(Y_train_res, y_train_pred)\n",
        "cm_display = ConfusionMatrixDisplay(cm, display_labels = [0,1])\n",
        "cm_display.plot()\n",
        "plt.grid(False)\n",
        "plt.show()"
      ],
      "metadata": {
        "colab": {
          "base_uri": "https://localhost:8080/",
          "height": 449
        },
        "id": "__2EdIVrc7fO",
        "outputId": "c9df103b-eb6d-4047-d938-4b24b1c1447d"
      },
      "execution_count": null,
      "outputs": [
        {
          "output_type": "display_data",
          "data": {
            "text/plain": [
              "<Figure size 640x480 with 2 Axes>"
            ],
            "image/png": "[encoded data removed]"
          },
          "metadata": {}
        }
      ]
    },
    {
      "cell_type": "code",
      "source": [
        "# calcul de la sensibilité (ou rappel) à partir du tableau de la matrice de confusion cm[ligne][colonne]\n",
        "FN = cm[1][0]\n",
        "TP = cm[1][1]\n",
        "TPR = TP/(TP+FN)*100\n",
        "print(\"Le modèle détecte %0.0f%% des échecs.\" %TPR)"
      ],
      "metadata": {
        "colab": {
          "base_uri": "https://localhost:8080/"
        },
        "id": "PEjVbFxLdDZA",
        "outputId": "db5c11c9-9342-4a7b-98a2-76ee32c1ecc6"
      },
      "execution_count": null,
      "outputs": [
        {
          "output_type": "stream",
          "name": "stdout",
          "text": [
            "Le modèle détecte 83% des échecs.\n"
          ]
        }
      ]
    },
    {
      "cell_type": "code",
      "source": [
        "# calcul de la spécificité\n",
        "TN = cm[0][0]\n",
        "FP = cm[0][1]\n",
        "TNR = TN/(FP+TN)*100\n",
        "print(\"Le modèle détecte %0.0f%% des réussites.\" %TNR)"
      ],
      "metadata": {
        "colab": {
          "base_uri": "https://localhost:8080/"
        },
        "id": "m86PsVX7dEBN",
        "outputId": "dbf5fe96-8e15-4219-c3db-527354927071"
      },
      "execution_count": null,
      "outputs": [
        {
          "output_type": "stream",
          "name": "stdout",
          "text": [
            "Le modèle détecte 93% des réussites.\n"
          ]
        }
      ]
    },
    {
      "cell_type": "code",
      "source": [
        "# calcul de la précision\n",
        "TP = cm[1][1]\n",
        "FP = cm[0][1]\n",
        "# PPV pour predicted positive values\n",
        "PPV = TP / (TP + FP)*100\n",
        "print(\"Parmis les échecs détectés, %0.0f%% sont corrects.\" %PPV)"
      ],
      "metadata": {
        "colab": {
          "base_uri": "https://localhost:8080/"
        },
        "id": "5DECNE94dIzK",
        "outputId": "78c627ce-8657-47be-87f2-4e3b83063f5c"
      },
      "execution_count": null,
      "outputs": [
        {
          "output_type": "stream",
          "name": "stdout",
          "text": [
            "Parmis les échecs détectés, 86% sont corrects.\n"
          ]
        }
      ]
    },
    {
      "cell_type": "code",
      "source": [
        "# Résultats prédits en fonction du seuil de décision sur les données test\n",
        "y_test_pred = np.where(Y_test_proba[:, 1] > seuil, 1, 0)\n",
        "\n",
        "cm = confusion_matrix(Y_test, y_test_pred)\n",
        "cm_display = ConfusionMatrixDisplay(cm, display_labels = [0,1])\n",
        "cm_display.plot()\n",
        "plt.grid(False)\n",
        "plt.show()"
      ],
      "metadata": {
        "colab": {
          "base_uri": "https://localhost:8080/",
          "height": 449
        },
        "id": "DJH3YyzgcO9A",
        "outputId": "5789957a-47ef-4084-8edb-7e696da4d438"
      },
      "execution_count": null,
      "outputs": [
        {
          "output_type": "display_data",
          "data": {
            "text/plain": [
              "<Figure size 640x480 with 2 Axes>"
            ],
            "image/png": "[encoded data removed]"
          },
          "metadata": {}
        }
      ]
    },
    {
      "cell_type": "markdown",
      "source": [
        "Pour aller plus loin\n",
        "* Evaluer l'impact sur les résultats de la méthode de sélection des variables\n",
        "* Comparer les performances avec et sans normalisation des données\n",
        "* Evaluer d'autres algorithmes https://scikit-learn.org/stable/supervised_learning.html#supervised-learning\n"
      ],
      "metadata": {
        "id": "PQQf4KwLLyzc"
      }
    },
    {
      "cell_type": "code",
      "source": [],
      "metadata": {
        "id": "UvEJ3h29cXZu"
      },
      "execution_count": null,
      "outputs": []
    }
  ]
}