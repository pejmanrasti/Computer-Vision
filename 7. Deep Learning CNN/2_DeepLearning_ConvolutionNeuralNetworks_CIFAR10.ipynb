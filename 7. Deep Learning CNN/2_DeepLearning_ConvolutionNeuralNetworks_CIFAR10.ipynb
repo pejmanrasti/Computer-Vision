{
  "nbformat": 4,
  "nbformat_minor": 0,
  "metadata": {
    "colab": {
      "name": "2_DeepLearning_ConvolutionNeuralNetworks_CIFAR10.ipynb",
      "provenance": [],
      "collapsed_sections": [],
      "machine_shape": "hm",
      "authorship_tag": "ABX9TyMPW+Bia8eOw6kMT2cnEhRT",
      "include_colab_link": true
    },
    "kernelspec": {
      "name": "python3",
      "display_name": "Python 3"
    },
    "accelerator": "GPU"
  },
  "cells": [
    {
      "cell_type": "markdown",
      "metadata": {
        "id": "view-in-github",
        "colab_type": "text"
      },
      "source": [
        "<a href=\"https://colab.research.google.com/github/worklifesg/Python-for-Computer-Vision-with-OpenCV-and-Deep-Learning/blob/main/7.%20Deep%20Learning%20CNN/2_DeepLearning_ConvolutionNeuralNetworks_CIFAR10.ipynb\" target=\"_parent\"><img src=\"https://colab.research.google.com/assets/colab-badge.svg\" alt=\"Open In Colab\"/></a>"
      ]
    },
    {
      "cell_type": "markdown",
      "metadata": {
        "id": "TGQeTRBlSLym"
      },
      "source": [
        "### Deep Learning For Object Detection and Image Classification\r\n",
        "\r\n",
        "<h4 align='center'> Keras CNN with CIFAR-10 </h4>\r\n",
        "\r\n",
        "- Color images dataset"
      ]
    },
    {
      "cell_type": "code",
      "metadata": {
        "colab": {
          "base_uri": "https://localhost:8080/"
        },
        "id": "EEFZgVSpTAsk",
        "outputId": "fcb9471e-41c5-41c2-d47a-c858893dc414"
      },
      "source": [
        "# Checking GPU available on Colab\r\n",
        "\r\n",
        "gpu_info = !nvidia-smi\r\n",
        "gpu_info = '\\n'.join(gpu_info)\r\n",
        "if gpu_info.find('failed') >= 0:\r\n",
        "  print('Select the Runtime > \"Change runtime type\" menu to enable a GPU accelerator, ')\r\n",
        "  print('and then re-execute this cell.')\r\n",
        "else:\r\n",
        "  print(gpu_info)\r\n",
        "\r\n",
        "from psutil import virtual_memory\r\n",
        "ram_gb = virtual_memory().total / 1e9\r\n",
        "print('Your runtime has {:.1f} gigabytes of available RAM\\n'.format(ram_gb))\r\n",
        "\r\n",
        "if ram_gb < 20:\r\n",
        "  print('To enable a high-RAM runtime, select the Runtime > \"Change runtime type\"')\r\n",
        "  print('menu, and then select High-RAM in the Runtime shape dropdown. Then, ')\r\n",
        "  print('re-execute this cell.')\r\n",
        "else:\r\n",
        "  print('You are using a high-RAM runtime!')"
      ],
      "execution_count": 1,
      "outputs": [
        {
          "output_type": "stream",
          "text": [
            "Sun Dec 13 04:13:02 2020       \n",
            "+-----------------------------------------------------------------------------+\n",
            "| NVIDIA-SMI 455.45.01    Driver Version: 418.67       CUDA Version: 10.1     |\n",
            "|-------------------------------+----------------------+----------------------+\n",
            "| GPU  Name        Persistence-M| Bus-Id        Disp.A | Volatile Uncorr. ECC |\n",
            "| Fan  Temp  Perf  Pwr:Usage/Cap|         Memory-Usage | GPU-Util  Compute M. |\n",
            "|                               |                      |               MIG M. |\n",
            "|===============================+======================+======================|\n",
            "|   0  Tesla V100-SXM2...  Off  | 00000000:00:04.0 Off |                    0 |\n",
            "| N/A   37C    P0    26W / 300W |      0MiB / 16130MiB |      0%      Default |\n",
            "|                               |                      |                 ERR! |\n",
            "+-------------------------------+----------------------+----------------------+\n",
            "                                                                               \n",
            "+-----------------------------------------------------------------------------+\n",
            "| Processes:                                                                  |\n",
            "|  GPU   GI   CI        PID   Type   Process name                  GPU Memory |\n",
            "|        ID   ID                                                   Usage      |\n",
            "|=============================================================================|\n",
            "|  No running processes found                                                 |\n",
            "+-----------------------------------------------------------------------------+\n",
            "Your runtime has 27.4 gigabytes of available RAM\n",
            "\n",
            "You are using a high-RAM runtime!\n"
          ],
          "name": "stdout"
        }
      ]
    },
    {
      "cell_type": "markdown",
      "metadata": {
        "id": "ySsL8QtgV-zI"
      },
      "source": [
        "##### With Smaller CNN Model"
      ]
    },
    {
      "cell_type": "code",
      "metadata": {
        "id": "chzuc-mFSGWv"
      },
      "source": [
        "#import libraries\r\n",
        "\r\n",
        "from keras.datasets import cifar10\r\n",
        "import matplotlib.pyplot as plt\r\n",
        "%matplotlib inline\r\n",
        "\r\n",
        "from keras.utils.np_utils import to_categorical\r\n",
        "\r\n",
        "from keras.models import Sequential\r\n",
        "from keras.layers import Dense,Conv2D,MaxPool2D,Flatten\r\n",
        "\r\n",
        "from sklearn.metrics import classification_report"
      ],
      "execution_count": 2,
      "outputs": []
    },
    {
      "cell_type": "code",
      "metadata": {
        "colab": {
          "base_uri": "https://localhost:8080/"
        },
        "id": "AaxGB37mSksL",
        "outputId": "52c2a639-04dc-4391-bb15-64a24d5567f5"
      },
      "source": [
        "(x_train,y_train) , (x_test,y_test) = cifar10.load_data()\r\n",
        "print('Training size: ',x_train.shape) # we have 50000 images of training dataset with 32 x 32 pixels of 3 color channels"
      ],
      "execution_count": 3,
      "outputs": [
        {
          "output_type": "stream",
          "text": [
            "Downloading data from https://www.cs.toronto.edu/~kriz/cifar-10-python.tar.gz\n",
            "170500096/170498071 [==============================] - 6s 0us/step\n",
            "Training size:  (50000, 32, 32, 3)\n"
          ],
          "name": "stdout"
        }
      ]
    },
    {
      "cell_type": "code",
      "metadata": {
        "colab": {
          "base_uri": "https://localhost:8080/",
          "height": 284
        },
        "id": "HG_bW_hNTazD",
        "outputId": "937ee6d1-4215-4c9f-b0bb-e11ff5465e25"
      },
      "source": [
        "single_image = x_train[0]\r\n",
        "plt.imshow(single_image) #low resolution"
      ],
      "execution_count": 4,
      "outputs": [
        {
          "output_type": "execute_result",
          "data": {
            "text/plain": [
              "<matplotlib.image.AxesImage at 0x7ff4de414ac8>"
            ]
          },
          "metadata": {
            "tags": []
          },
          "execution_count": 4
        },
        {
          "output_type": "display_data",
          "data": {
            "image/png": "[encoded data removed]",
            "text/plain": [
              "<Figure size 432x288 with 1 Axes>"
            ]
          },
          "metadata": {
            "tags": [],
            "needs_background": "light"
          }
        }
      ]
    },
    {
      "cell_type": "markdown",
      "metadata": {
        "id": "e6Obz_UVT565"
      },
      "source": [
        "##### Pre-processing"
      ]
    },
    {
      "cell_type": "code",
      "metadata": {
        "colab": {
          "base_uri": "https://localhost:8080/"
        },
        "id": "EGwmXXQITzDJ",
        "outputId": "edb41ab7-fc49-4d41-f06c-2ef10433ae2c"
      },
      "source": [
        "x_train = x_train/x_train.max()\r\n",
        "x_test = x_test/x_test.max()\r\n",
        "\r\n",
        "single_image = x_train[0]\r\n",
        "single_image.max()"
      ],
      "execution_count": 5,
      "outputs": [
        {
          "output_type": "execute_result",
          "data": {
            "text/plain": [
              "1.0"
            ]
          },
          "metadata": {
            "tags": []
          },
          "execution_count": 5
        }
      ]
    },
    {
      "cell_type": "code",
      "metadata": {
        "colab": {
          "base_uri": "https://localhost:8080/"
        },
        "id": "MVXgt1uMUEcq",
        "outputId": "47281d7f-6b35-480d-c31d-e46a31055958"
      },
      "source": [
        "x_test.shape #10000 images"
      ],
      "execution_count": 6,
      "outputs": [
        {
          "output_type": "execute_result",
          "data": {
            "text/plain": [
              "(10000, 32, 32, 3)"
            ]
          },
          "metadata": {
            "tags": []
          },
          "execution_count": 6
        }
      ]
    },
    {
      "cell_type": "code",
      "metadata": {
        "colab": {
          "base_uri": "https://localhost:8080/"
        },
        "id": "hcSlhN-cUHdC",
        "outputId": "a73e2264-8ac4-4cd0-d971-eeb61dcb4990"
      },
      "source": [
        "y_cat_test = to_categorical(y_test,10)\r\n",
        "y_cat_train = to_categorical(y_train,10)\r\n",
        "\r\n",
        "print('First Index')\r\n",
        "print(y_train[0])\r\n",
        "print(y_cat_train[0])\r\n",
        "print('------------------------------------------------')\r\n",
        "print('Second Index')\r\n",
        "print(y_train[1])\r\n",
        "print(y_cat_train[1])"
      ],
      "execution_count": 7,
      "outputs": [
        {
          "output_type": "stream",
          "text": [
            "First Index\n",
            "[6]\n",
            "[0. 0. 0. 0. 0. 0. 1. 0. 0. 0.]\n",
            "------------------------------------------------\n",
            "Second Index\n",
            "[9]\n",
            "[0. 0. 0. 0. 0. 0. 0. 0. 0. 1.]\n"
          ],
          "name": "stdout"
        }
      ]
    },
    {
      "cell_type": "code",
      "metadata": {
        "id": "ADXJFpyEUNJC"
      },
      "source": [
        "model = Sequential() #create a model\r\n",
        "\r\n",
        "#Conv Layer\r\n",
        "model.add(Conv2D(filters=32,kernel_size=(4,4),\r\n",
        "                 input_shape=(32,32,3),activation='relu'))\r\n",
        "#Pooling layer\r\n",
        "model.add(MaxPool2D(pool_size=(2,2)))\r\n",
        "\r\n",
        "#----------------------------------------------------#\r\n",
        "\r\n",
        "#Conv Layer\r\n",
        "model.add(Conv2D(filters=32,kernel_size=(4,4),\r\n",
        "                 input_shape=(32,32,3),activation='relu'))\r\n",
        "#Pooling layer\r\n",
        "model.add(MaxPool2D(pool_size=(2,2)))\r\n",
        "\r\n",
        "#----------------------------------------------------#\r\n",
        "\r\n",
        "#Flatten out to understand Dense layer (2D-->1D)\r\n",
        "model.add(Flatten())\r\n",
        "\r\n",
        "#Dense Layer\r\n",
        "model.add(Dense(256,activation='relu'))\r\n",
        "\r\n",
        "#Output Layer\r\n",
        "model.add(Dense(10,activation='softmax'))\r\n",
        "\r\n",
        "model.compile(loss='categorical_crossentropy',\r\n",
        "              optimizer='rmsprop',\r\n",
        "              metrics=['accuracy'])"
      ],
      "execution_count": 8,
      "outputs": []
    },
    {
      "cell_type": "code",
      "metadata": {
        "colab": {
          "base_uri": "https://localhost:8080/"
        },
        "id": "ekOQC6lZU_S6",
        "outputId": "4a0831e4-2a2c-46c2-e2af-04c2cc19c567"
      },
      "source": [
        "model.summary()"
      ],
      "execution_count": 9,
      "outputs": [
        {
          "output_type": "stream",
          "text": [
            "Model: \"sequential\"\n",
            "_________________________________________________________________\n",
            "Layer (type)                 Output Shape              Param #   \n",
            "=================================================================\n",
            "conv2d (Conv2D)              (None, 29, 29, 32)        1568      \n",
            "_________________________________________________________________\n",
            "max_pooling2d (MaxPooling2D) (None, 14, 14, 32)        0         \n",
            "_________________________________________________________________\n",
            "conv2d_1 (Conv2D)            (None, 11, 11, 32)        16416     \n",
            "_________________________________________________________________\n",
            "max_pooling2d_1 (MaxPooling2 (None, 5, 5, 32)          0         \n",
            "_________________________________________________________________\n",
            "flatten (Flatten)            (None, 800)               0         \n",
            "_________________________________________________________________\n",
            "dense (Dense)                (None, 256)               205056    \n",
            "_________________________________________________________________\n",
            "dense_1 (Dense)              (None, 10)                2570      \n",
            "=================================================================\n",
            "Total params: 225,610\n",
            "Trainable params: 225,610\n",
            "Non-trainable params: 0\n",
            "_________________________________________________________________\n"
          ],
          "name": "stdout"
        }
      ]
    },
    {
      "cell_type": "code",
      "metadata": {
        "colab": {
          "base_uri": "https://localhost:8080/"
        },
        "id": "L-FNFqMQVBBa",
        "outputId": "cb32afa9-54f7-40ac-f7b4-3369d0845527"
      },
      "source": [
        "#Train model\r\n",
        "\r\n",
        "model.fit(x_train,y_cat_train,epochs=50,verbose=1)"
      ],
      "execution_count": 10,
      "outputs": [
        {
          "output_type": "stream",
          "text": [
            "Epoch 1/50\n",
            "1563/1563 [==============================] - 5s 3ms/step - loss: 1.5220 - accuracy: 0.4546\n",
            "Epoch 2/50\n",
            "1563/1563 [==============================] - 5s 3ms/step - loss: 1.1645 - accuracy: 0.5930\n",
            "Epoch 3/50\n",
            "1563/1563 [==============================] - 5s 3ms/step - loss: 1.0066 - accuracy: 0.6505\n",
            "Epoch 4/50\n",
            "1563/1563 [==============================] - 5s 3ms/step - loss: 0.9008 - accuracy: 0.6902\n",
            "Epoch 5/50\n",
            "1563/1563 [==============================] - 5s 3ms/step - loss: 0.8161 - accuracy: 0.7211\n",
            "Epoch 6/50\n",
            "1563/1563 [==============================] - 5s 3ms/step - loss: 0.7505 - accuracy: 0.7455\n",
            "Epoch 7/50\n",
            "1563/1563 [==============================] - 5s 3ms/step - loss: 0.7006 - accuracy: 0.7616\n",
            "Epoch 8/50\n",
            "1563/1563 [==============================] - 5s 3ms/step - loss: 0.6512 - accuracy: 0.7785\n",
            "Epoch 9/50\n",
            "1563/1563 [==============================] - 5s 3ms/step - loss: 0.6184 - accuracy: 0.7924\n",
            "Epoch 10/50\n",
            "1563/1563 [==============================] - 5s 3ms/step - loss: 0.5862 - accuracy: 0.8025\n",
            "Epoch 11/50\n",
            "1563/1563 [==============================] - 5s 3ms/step - loss: 0.5634 - accuracy: 0.8133\n",
            "Epoch 12/50\n",
            "1563/1563 [==============================] - 5s 3ms/step - loss: 0.5338 - accuracy: 0.8210\n",
            "Epoch 13/50\n",
            "1563/1563 [==============================] - 5s 3ms/step - loss: 0.5210 - accuracy: 0.8272\n",
            "Epoch 14/50\n",
            "1563/1563 [==============================] - 6s 4ms/step - loss: 0.4986 - accuracy: 0.8342\n",
            "Epoch 15/50\n",
            "1563/1563 [==============================] - 6s 4ms/step - loss: 0.4801 - accuracy: 0.8394\n",
            "Epoch 16/50\n",
            "1563/1563 [==============================] - 5s 3ms/step - loss: 0.4709 - accuracy: 0.8460\n",
            "Epoch 17/50\n",
            "1563/1563 [==============================] - 5s 3ms/step - loss: 0.4484 - accuracy: 0.8499\n",
            "Epoch 18/50\n",
            "1563/1563 [==============================] - 5s 3ms/step - loss: 0.4422 - accuracy: 0.8547\n",
            "Epoch 19/50\n",
            "1563/1563 [==============================] - 5s 3ms/step - loss: 0.4347 - accuracy: 0.8600\n",
            "Epoch 20/50\n",
            "1563/1563 [==============================] - 5s 3ms/step - loss: 0.4171 - accuracy: 0.8645\n",
            "Epoch 21/50\n",
            "1563/1563 [==============================] - 5s 3ms/step - loss: 0.4069 - accuracy: 0.8691\n",
            "Epoch 22/50\n",
            "1563/1563 [==============================] - 5s 3ms/step - loss: 0.4056 - accuracy: 0.8715\n",
            "Epoch 23/50\n",
            "1563/1563 [==============================] - 5s 3ms/step - loss: 0.3874 - accuracy: 0.8768\n",
            "Epoch 24/50\n",
            "1563/1563 [==============================] - 5s 3ms/step - loss: 0.3832 - accuracy: 0.8794\n",
            "Epoch 25/50\n",
            "1563/1563 [==============================] - 5s 3ms/step - loss: 0.3728 - accuracy: 0.8814\n",
            "Epoch 26/50\n",
            "1563/1563 [==============================] - 5s 3ms/step - loss: 0.3752 - accuracy: 0.8813\n",
            "Epoch 27/50\n",
            "1563/1563 [==============================] - 5s 3ms/step - loss: 0.3786 - accuracy: 0.8835\n",
            "Epoch 28/50\n",
            "1563/1563 [==============================] - 5s 3ms/step - loss: 0.3692 - accuracy: 0.8865\n",
            "Epoch 29/50\n",
            "1563/1563 [==============================] - 5s 3ms/step - loss: 0.3673 - accuracy: 0.8883\n",
            "Epoch 30/50\n",
            "1563/1563 [==============================] - 5s 3ms/step - loss: 0.3620 - accuracy: 0.8897\n",
            "Epoch 31/50\n",
            "1563/1563 [==============================] - 5s 3ms/step - loss: 0.3517 - accuracy: 0.8942\n",
            "Epoch 32/50\n",
            "1563/1563 [==============================] - 5s 3ms/step - loss: 0.3553 - accuracy: 0.8920\n",
            "Epoch 33/50\n",
            "1563/1563 [==============================] - 5s 3ms/step - loss: 0.3465 - accuracy: 0.8941\n",
            "Epoch 34/50\n",
            "1563/1563 [==============================] - 5s 3ms/step - loss: 0.3432 - accuracy: 0.8975\n",
            "Epoch 35/50\n",
            "1563/1563 [==============================] - 5s 3ms/step - loss: 0.3414 - accuracy: 0.9002\n",
            "Epoch 36/50\n",
            "1563/1563 [==============================] - 5s 3ms/step - loss: 0.3300 - accuracy: 0.9035\n",
            "Epoch 37/50\n",
            "1563/1563 [==============================] - 5s 3ms/step - loss: 0.3224 - accuracy: 0.9064\n",
            "Epoch 38/50\n",
            "1563/1563 [==============================] - 5s 3ms/step - loss: 0.3270 - accuracy: 0.9066\n",
            "Epoch 39/50\n",
            "1563/1563 [==============================] - 5s 3ms/step - loss: 0.3182 - accuracy: 0.9089\n",
            "Epoch 40/50\n",
            "1563/1563 [==============================] - 5s 3ms/step - loss: 0.3163 - accuracy: 0.9090\n",
            "Epoch 41/50\n",
            "1563/1563 [==============================] - 5s 3ms/step - loss: 0.3222 - accuracy: 0.9105\n",
            "Epoch 42/50\n",
            "1563/1563 [==============================] - 5s 3ms/step - loss: 0.3218 - accuracy: 0.9118\n",
            "Epoch 43/50\n",
            "1563/1563 [==============================] - 5s 3ms/step - loss: 0.3211 - accuracy: 0.9124\n",
            "Epoch 44/50\n",
            "1563/1563 [==============================] - 5s 3ms/step - loss: 0.3196 - accuracy: 0.9138\n",
            "Epoch 45/50\n",
            "1563/1563 [==============================] - 5s 3ms/step - loss: 0.3135 - accuracy: 0.9147\n",
            "Epoch 46/50\n",
            "1563/1563 [==============================] - 5s 3ms/step - loss: 0.3071 - accuracy: 0.9159\n",
            "Epoch 47/50\n",
            "1563/1563 [==============================] - 5s 3ms/step - loss: 0.2970 - accuracy: 0.9174\n",
            "Epoch 48/50\n",
            "1563/1563 [==============================] - 5s 3ms/step - loss: 0.3111 - accuracy: 0.9165\n",
            "Epoch 49/50\n",
            "1563/1563 [==============================] - 5s 3ms/step - loss: 0.3055 - accuracy: 0.9208\n",
            "Epoch 50/50\n",
            "1563/1563 [==============================] - 5s 3ms/step - loss: 0.3020 - accuracy: 0.9195\n"
          ],
          "name": "stdout"
        },
        {
          "output_type": "execute_result",
          "data": {
            "text/plain": [
              "<tensorflow.python.keras.callbacks.History at 0x7ff4d03f5fd0>"
            ]
          },
          "metadata": {
            "tags": []
          },
          "execution_count": 10
        }
      ]
    },
    {
      "cell_type": "code",
      "metadata": {
        "colab": {
          "base_uri": "https://localhost:8080/"
        },
        "id": "-UYqEfjAVQ1r",
        "outputId": "fc4c117d-9bfa-4265-af72-7b2207ef199e"
      },
      "source": [
        "print('Metrics used: ', model.metrics_names)\r\n",
        "\r\n",
        "#evaluate using test dataset\r\n",
        "\r\n",
        "model.evaluate(x_test,y_cat_test)"
      ],
      "execution_count": 11,
      "outputs": [
        {
          "output_type": "stream",
          "text": [
            "Metrics used:  ['loss', 'accuracy']\n",
            "313/313 [==============================] - 1s 2ms/step - loss: 4.0851 - accuracy: 0.6779\n"
          ],
          "name": "stdout"
        },
        {
          "output_type": "execute_result",
          "data": {
            "text/plain": [
              "[4.085117816925049, 0.6779000163078308]"
            ]
          },
          "metadata": {
            "tags": []
          },
          "execution_count": 11
        }
      ]
    },
    {
      "cell_type": "code",
      "metadata": {
        "colab": {
          "base_uri": "https://localhost:8080/"
        },
        "id": "UjEiMsSbVa2K",
        "outputId": "91e2da72-6529-4982-c855-84776ef74907"
      },
      "source": [
        "predictions = model.predict_classes(x_test)\r\n",
        "\r\n",
        "print('First Index')\r\n",
        "print('Testing Dataset: ',y_cat_test[0])\r\n",
        "print('Predicted value: ',predictions[0])\r\n",
        "print('------------------------------------------------')\r\n",
        "print('Second Index')\r\n",
        "print('Testing Dataset: ',y_cat_test[1])\r\n",
        "print('Predicted value: ',predictions[1])\r\n",
        "\r\n",
        "print(classification_report(y_test,predictions))"
      ],
      "execution_count": 12,
      "outputs": [
        {
          "output_type": "stream",
          "text": [
            "WARNING:tensorflow:From <ipython-input-12-4c153ebb8960>:1: Sequential.predict_classes (from tensorflow.python.keras.engine.sequential) is deprecated and will be removed after 2021-01-01.\n",
            "Instructions for updating:\n",
            "Please use instead:* `np.argmax(model.predict(x), axis=-1)`,   if your model does multi-class classification   (e.g. if it uses a `softmax` last-layer activation).* `(model.predict(x) > 0.5).astype(\"int32\")`,   if your model does binary classification   (e.g. if it uses a `sigmoid` last-layer activation).\n",
            "First Index\n",
            "Testing Dataset:  [0. 0. 0. 1. 0. 0. 0. 0. 0. 0.]\n",
            "Predicted value:  3\n",
            "------------------------------------------------\n",
            "Second Index\n",
            "Testing Dataset:  [0. 0. 0. 0. 0. 0. 0. 0. 1. 0.]\n",
            "Predicted value:  8\n",
            "              precision    recall  f1-score   support\n",
            "\n",
            "           0       0.78      0.60      0.68      1000\n",
            "           1       0.78      0.84      0.81      1000\n",
            "           2       0.59      0.58      0.58      1000\n",
            "           3       0.48      0.45      0.47      1000\n",
            "           4       0.64      0.60      0.62      1000\n",
            "           5       0.54      0.64      0.58      1000\n",
            "           6       0.75      0.73      0.74      1000\n",
            "           7       0.74      0.74      0.74      1000\n",
            "           8       0.77      0.80      0.79      1000\n",
            "           9       0.73      0.81      0.77      1000\n",
            "\n",
            "    accuracy                           0.68     10000\n",
            "   macro avg       0.68      0.68      0.68     10000\n",
            "weighted avg       0.68      0.68      0.68     10000\n",
            "\n"
          ],
          "name": "stdout"
        }
      ]
    },
    {
      "cell_type": "markdown",
      "metadata": {
        "id": "X9UPk2UDWHvH"
      },
      "source": [
        "##### With Larger Model"
      ]
    },
    {
      "cell_type": "code",
      "metadata": {
        "id": "-3053tRdWHJA"
      },
      "source": [
        "model = Sequential() #create a model\r\n",
        "\r\n",
        "#Conv Layer\r\n",
        "model.add(Conv2D(filters=32,kernel_size=(4,4),\r\n",
        "                 input_shape=(32,32,3),activation='relu'))\r\n",
        "model.add(Conv2D(filters=32,kernel_size=(4,4),\r\n",
        "                 input_shape=(32,32,3),activation='relu'))\r\n",
        "#Pooling layer\r\n",
        "model.add(MaxPool2D(pool_size=(2,2)))\r\n",
        "\r\n",
        "#----------------------------------------------------#\r\n",
        "\r\n",
        "#Conv Layer\r\n",
        "model.add(Conv2D(filters=32,kernel_size=(4,4),\r\n",
        "                 input_shape=(32,32,3),activation='relu'))\r\n",
        "model.add(Conv2D(filters=32,kernel_size=(4,4),\r\n",
        "                 input_shape=(32,32,3),activation='relu'))\r\n",
        "#Pooling layer\r\n",
        "model.add(MaxPool2D(pool_size=(2,2)))\r\n",
        "\r\n",
        "#----------------------------------------------------#\r\n",
        "\r\n",
        "#Flatten out to understand Dense layer (2D-->1D)\r\n",
        "model.add(Flatten())\r\n",
        "\r\n",
        "#Dense Layer\r\n",
        "model.add(Dense(512,activation='relu'))\r\n",
        "\r\n",
        "#Output Layer\r\n",
        "model.add(Dense(10,activation='softmax'))\r\n",
        "\r\n",
        "model.compile(loss='categorical_crossentropy',\r\n",
        "              optimizer='rmsprop',\r\n",
        "              metrics=['accuracy'])"
      ],
      "execution_count": 13,
      "outputs": []
    },
    {
      "cell_type": "code",
      "metadata": {
        "colab": {
          "base_uri": "https://localhost:8080/"
        },
        "id": "Ks3n9xFOWm4f",
        "outputId": "6d409e00-9756-4f7e-d169-5e6dd6edcbab"
      },
      "source": [
        "model.summary()"
      ],
      "execution_count": 14,
      "outputs": [
        {
          "output_type": "stream",
          "text": [
            "Model: \"sequential_1\"\n",
            "_________________________________________________________________\n",
            "Layer (type)                 Output Shape              Param #   \n",
            "=================================================================\n",
            "conv2d_2 (Conv2D)            (None, 29, 29, 32)        1568      \n",
            "_________________________________________________________________\n",
            "conv2d_3 (Conv2D)            (None, 26, 26, 32)        16416     \n",
            "_________________________________________________________________\n",
            "max_pooling2d_2 (MaxPooling2 (None, 13, 13, 32)        0         \n",
            "_________________________________________________________________\n",
            "conv2d_4 (Conv2D)            (None, 10, 10, 32)        16416     \n",
            "_________________________________________________________________\n",
            "conv2d_5 (Conv2D)            (None, 7, 7, 32)          16416     \n",
            "_________________________________________________________________\n",
            "max_pooling2d_3 (MaxPooling2 (None, 3, 3, 32)          0         \n",
            "_________________________________________________________________\n",
            "flatten_1 (Flatten)          (None, 288)               0         \n",
            "_________________________________________________________________\n",
            "dense_2 (Dense)              (None, 512)               147968    \n",
            "_________________________________________________________________\n",
            "dense_3 (Dense)              (None, 10)                5130      \n",
            "=================================================================\n",
            "Total params: 203,914\n",
            "Trainable params: 203,914\n",
            "Non-trainable params: 0\n",
            "_________________________________________________________________\n"
          ],
          "name": "stdout"
        }
      ]
    },
    {
      "cell_type": "code",
      "metadata": {
        "colab": {
          "base_uri": "https://localhost:8080/"
        },
        "id": "cMsFCl2KWoi3",
        "outputId": "40840163-8596-4ec7-f36f-b95f2c333920"
      },
      "source": [
        "#Train model\r\n",
        "\r\n",
        "model.fit(x_train,y_cat_train,epochs=50,verbose=1)"
      ],
      "execution_count": 15,
      "outputs": [
        {
          "output_type": "stream",
          "text": [
            "Epoch 1/50\n",
            "1563/1563 [==============================] - 7s 4ms/step - loss: 1.6236 - accuracy: 0.4134\n",
            "Epoch 2/50\n",
            "1563/1563 [==============================] - 7s 4ms/step - loss: 1.2469 - accuracy: 0.5572\n",
            "Epoch 3/50\n",
            "1563/1563 [==============================] - 6s 4ms/step - loss: 1.0996 - accuracy: 0.6135\n",
            "Epoch 4/50\n",
            "1563/1563 [==============================] - 6s 4ms/step - loss: 1.0043 - accuracy: 0.6519\n",
            "Epoch 5/50\n",
            "1563/1563 [==============================] - 6s 4ms/step - loss: 0.9579 - accuracy: 0.6699\n",
            "Epoch 6/50\n",
            "1563/1563 [==============================] - 6s 4ms/step - loss: 0.9354 - accuracy: 0.6827\n",
            "Epoch 7/50\n",
            "1563/1563 [==============================] - 6s 4ms/step - loss: 0.9263 - accuracy: 0.6849\n",
            "Epoch 8/50\n",
            "1563/1563 [==============================] - 6s 4ms/step - loss: 0.9208 - accuracy: 0.6877\n",
            "Epoch 9/50\n",
            "1563/1563 [==============================] - 6s 4ms/step - loss: 0.9194 - accuracy: 0.6929\n",
            "Epoch 10/50\n",
            "1563/1563 [==============================] - 6s 4ms/step - loss: 0.9214 - accuracy: 0.6872\n",
            "Epoch 11/50\n",
            "1563/1563 [==============================] - 6s 4ms/step - loss: 0.9117 - accuracy: 0.6917\n",
            "Epoch 12/50\n",
            "1563/1563 [==============================] - 6s 4ms/step - loss: 0.9093 - accuracy: 0.6952\n",
            "Epoch 13/50\n",
            "1563/1563 [==============================] - 6s 4ms/step - loss: 0.9106 - accuracy: 0.6945\n",
            "Epoch 14/50\n",
            "1563/1563 [==============================] - 6s 4ms/step - loss: 0.9171 - accuracy: 0.6927\n",
            "Epoch 15/50\n",
            "1563/1563 [==============================] - 6s 4ms/step - loss: 0.9144 - accuracy: 0.6953\n",
            "Epoch 16/50\n",
            "1563/1563 [==============================] - 6s 4ms/step - loss: 0.9152 - accuracy: 0.6949\n",
            "Epoch 17/50\n",
            "1563/1563 [==============================] - 6s 4ms/step - loss: 0.9153 - accuracy: 0.6963\n",
            "Epoch 18/50\n",
            "1563/1563 [==============================] - 6s 4ms/step - loss: 0.9222 - accuracy: 0.6930\n",
            "Epoch 19/50\n",
            "1563/1563 [==============================] - 6s 4ms/step - loss: 0.9211 - accuracy: 0.6937\n",
            "Epoch 20/50\n",
            "1563/1563 [==============================] - 6s 4ms/step - loss: 0.9218 - accuracy: 0.6945\n",
            "Epoch 21/50\n",
            "1563/1563 [==============================] - 6s 4ms/step - loss: 0.9210 - accuracy: 0.6944\n",
            "Epoch 22/50\n",
            "1563/1563 [==============================] - 6s 4ms/step - loss: 0.9255 - accuracy: 0.6940\n",
            "Epoch 23/50\n",
            "1563/1563 [==============================] - 6s 4ms/step - loss: 0.9182 - accuracy: 0.6967\n",
            "Epoch 24/50\n",
            "1563/1563 [==============================] - 6s 4ms/step - loss: 0.9226 - accuracy: 0.6955\n",
            "Epoch 25/50\n",
            "1563/1563 [==============================] - 6s 4ms/step - loss: 0.9463 - accuracy: 0.6989\n",
            "Epoch 26/50\n",
            "1563/1563 [==============================] - 6s 4ms/step - loss: 0.9094 - accuracy: 0.6996\n",
            "Epoch 27/50\n",
            "1563/1563 [==============================] - 6s 4ms/step - loss: 0.8969 - accuracy: 0.7024\n",
            "Epoch 28/50\n",
            "1563/1563 [==============================] - 6s 4ms/step - loss: 0.9106 - accuracy: 0.6998\n",
            "Epoch 29/50\n",
            "1563/1563 [==============================] - 6s 4ms/step - loss: 0.9059 - accuracy: 0.7031\n",
            "Epoch 30/50\n",
            "1563/1563 [==============================] - 6s 4ms/step - loss: 0.8905 - accuracy: 0.7059\n",
            "Epoch 31/50\n",
            "1563/1563 [==============================] - 6s 4ms/step - loss: 0.8830 - accuracy: 0.7099\n",
            "Epoch 32/50\n",
            "1563/1563 [==============================] - 6s 4ms/step - loss: 0.8819 - accuracy: 0.7085\n",
            "Epoch 33/50\n",
            "1563/1563 [==============================] - 6s 4ms/step - loss: 0.8661 - accuracy: 0.7145\n",
            "Epoch 34/50\n",
            "1563/1563 [==============================] - 6s 4ms/step - loss: 0.8920 - accuracy: 0.7120\n",
            "Epoch 35/50\n",
            "1563/1563 [==============================] - 6s 4ms/step - loss: 0.8635 - accuracy: 0.7168\n",
            "Epoch 36/50\n",
            "1563/1563 [==============================] - 6s 4ms/step - loss: 0.8785 - accuracy: 0.7120\n",
            "Epoch 37/50\n",
            "1563/1563 [==============================] - 6s 4ms/step - loss: 0.8632 - accuracy: 0.7171\n",
            "Epoch 38/50\n",
            "1563/1563 [==============================] - 6s 4ms/step - loss: 0.8651 - accuracy: 0.7184\n",
            "Epoch 39/50\n",
            "1563/1563 [==============================] - 6s 4ms/step - loss: 0.8658 - accuracy: 0.7186\n",
            "Epoch 40/50\n",
            "1563/1563 [==============================] - 6s 4ms/step - loss: 0.8609 - accuracy: 0.7187\n",
            "Epoch 41/50\n",
            "1563/1563 [==============================] - 6s 4ms/step - loss: 0.8733 - accuracy: 0.7188\n",
            "Epoch 42/50\n",
            "1563/1563 [==============================] - 6s 4ms/step - loss: 0.8909 - accuracy: 0.7134\n",
            "Epoch 43/50\n",
            "1563/1563 [==============================] - 6s 4ms/step - loss: 0.8830 - accuracy: 0.7132\n",
            "Epoch 44/50\n",
            "1563/1563 [==============================] - 6s 4ms/step - loss: 0.9068 - accuracy: 0.7164\n",
            "Epoch 45/50\n",
            "1563/1563 [==============================] - 6s 4ms/step - loss: 0.8927 - accuracy: 0.7133\n",
            "Epoch 46/50\n",
            "1563/1563 [==============================] - 6s 4ms/step - loss: 0.8873 - accuracy: 0.7127\n",
            "Epoch 47/50\n",
            "1563/1563 [==============================] - 6s 4ms/step - loss: 0.8915 - accuracy: 0.7132\n",
            "Epoch 48/50\n",
            "1563/1563 [==============================] - 6s 4ms/step - loss: 0.9123 - accuracy: 0.7077\n",
            "Epoch 49/50\n",
            "1563/1563 [==============================] - 6s 4ms/step - loss: 0.8991 - accuracy: 0.7106\n",
            "Epoch 50/50\n",
            "1563/1563 [==============================] - 6s 4ms/step - loss: 0.9303 - accuracy: 0.7047\n"
          ],
          "name": "stdout"
        },
        {
          "output_type": "execute_result",
          "data": {
            "text/plain": [
              "<tensorflow.python.keras.callbacks.History at 0x7ff4d012fbe0>"
            ]
          },
          "metadata": {
            "tags": []
          },
          "execution_count": 15
        }
      ]
    },
    {
      "cell_type": "code",
      "metadata": {
        "colab": {
          "base_uri": "https://localhost:8080/"
        },
        "id": "zkXcnKk_WuBu",
        "outputId": "59c18bcc-57e6-4132-ace0-05e9363b4078"
      },
      "source": [
        "print('Metrics used: ', model.metrics_names)\r\n",
        "\r\n",
        "#evaluate using test dataset\r\n",
        "\r\n",
        "model.evaluate(x_test,y_cat_test)"
      ],
      "execution_count": 16,
      "outputs": [
        {
          "output_type": "stream",
          "text": [
            "Metrics used:  ['loss', 'accuracy']\n",
            "313/313 [==============================] - 1s 2ms/step - loss: 1.3410 - accuracy: 0.6346\n"
          ],
          "name": "stdout"
        },
        {
          "output_type": "execute_result",
          "data": {
            "text/plain": [
              "[1.3409852981567383, 0.6345999836921692]"
            ]
          },
          "metadata": {
            "tags": []
          },
          "execution_count": 16
        }
      ]
    },
    {
      "cell_type": "code",
      "metadata": {
        "colab": {
          "base_uri": "https://localhost:8080/"
        },
        "id": "rVTvqHluWzlH",
        "outputId": "1eb5c6f3-7aed-4bca-ffb0-3f1e6b5b05f3"
      },
      "source": [
        "predictions = model.predict_classes(x_test)\r\n",
        "\r\n",
        "print('First Index')\r\n",
        "print('Testing Dataset: ',y_cat_test[0])\r\n",
        "print('Predicted value: ',predictions[0])\r\n",
        "print('------------------------------------------------')\r\n",
        "print('Second Index')\r\n",
        "print('Testing Dataset: ',y_cat_test[1])\r\n",
        "print('Predicted value: ',predictions[1])\r\n",
        "\r\n",
        "print(classification_report(y_test,predictions))"
      ],
      "execution_count": 17,
      "outputs": [
        {
          "output_type": "stream",
          "text": [
            "First Index\n",
            "Testing Dataset:  [0. 0. 0. 1. 0. 0. 0. 0. 0. 0.]\n",
            "Predicted value:  9\n",
            "------------------------------------------------\n",
            "Second Index\n",
            "Testing Dataset:  [0. 0. 0. 0. 0. 0. 0. 0. 1. 0.]\n",
            "Predicted value:  1\n",
            "              precision    recall  f1-score   support\n",
            "\n",
            "           0       0.46      0.86      0.60      1000\n",
            "           1       0.78      0.84      0.81      1000\n",
            "           2       0.43      0.65      0.52      1000\n",
            "           3       0.81      0.18      0.30      1000\n",
            "           4       0.76      0.41      0.53      1000\n",
            "           5       0.54      0.67      0.60      1000\n",
            "           6       0.81      0.69      0.74      1000\n",
            "           7       0.75      0.63      0.69      1000\n",
            "           8       0.80      0.67      0.73      1000\n",
            "           9       0.75      0.73      0.74      1000\n",
            "\n",
            "    accuracy                           0.63     10000\n",
            "   macro avg       0.69      0.63      0.63     10000\n",
            "weighted avg       0.69      0.63      0.63     10000\n",
            "\n"
          ],
          "name": "stdout"
        }
      ]
    }
  ]
}