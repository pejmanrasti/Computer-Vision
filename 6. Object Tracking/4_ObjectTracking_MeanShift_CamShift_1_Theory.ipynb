{
  "nbformat": 4,
  "nbformat_minor": 0,
  "metadata": {
    "colab": {
      "name": "4_ObjectTracking_MeanShift_CamShift_1_Theory.ipynb",
      "provenance": [],
      "collapsed_sections": [],
      "toc_visible": true,
      "authorship_tag": "ABX9TyNVy2ordxWSnWh8Bemy8gyW",
      "include_colab_link": true
    },
    "kernelspec": {
      "name": "python3",
      "display_name": "Python 3"
    }
  },
  "cells": [
    {
      "cell_type": "markdown",
      "metadata": {
        "id": "view-in-github",
        "colab_type": "text"
      },
      "source": [
        "<a href=\"https://colab.research.google.com/github/worklifesg/Python-for-Computer-Vision-with-OpenCV-and-Deep-Learning/blob/main/6.%20Object%20Tracking/4_ObjectTracking_MeanShift_CamShift_1_Theory.ipynb\" target=\"_parent\"><img src=\"https://colab.research.google.com/assets/colab-badge.svg\" alt=\"Open In Colab\"/></a>"
      ]
    },
    {
      "cell_type": "markdown",
      "metadata": {
        "id": "OPrhTXQWEaAd"
      },
      "source": [
        "### Object Tracking\r\n",
        "\r\n",
        "In this section, we will cover:\r\n",
        "\r\n",
        "- Basic Object Tracking Techniques\r\n",
        " - Optical Flow\r\n",
        " - Meanshift and Camshift\r\n",
        "- Advanced Tracking\r\n",
        " - Built-In Tracking APIs\r\n",
        "\r\n",
        "#### Meanshift and CamShift (Continously Adaptive Meanshift)\r\n",
        "\r\n",
        "- Basic tracking methods:\r\n",
        "- Let us understand through an example:\r\n",
        " - We have intial set of points and we want to assign them into clusters\r\n",
        "\r\n",
        "![alt text](https://drive.google.com/uc?id=10_0IiQcujV5ZnDCOgmjsQpQeOGa149FV)\r\n",
        "\r\n",
        " - We have both red (faintly there) and blue points.\r\n",
        " - <b> For Meanshift, </b> we find the direction to the closest cluster centroid by where most points are nearby at. <b> i.e. calculating weighted mean </b>\r\n",
        " - For each ieration blue points will move to the centroid center for each cluster\r\n",
        " - After <b> One Iteration </b>, all blue points move towards the clusters and we can see red points that were beneath the blue points before iteration\r\n",
        "\r\n",
        "![alt text](https://drive.google.com/uc?id=1ObD-42gEgVrmqUb_bU5qGTg4wx6d1AAX)\r\n",
        "\r\n",
        " - After <b> Second Iteration </b>, the bottom clusters have begun to covergence\r\n",
        " - After <b> Third Iteration </b>, 3 clusters were found at each centroid.\r\n",
        " - Trying further iterations, there is no more change in clustering, so we stop there.\r\n",
        " - So we identify three clusters (2 bottom)\r\n",
        " - <b> In MeanShift </b> algorithm, you can't day before how man y clusters you want to form as in this case there was a chace to have 4 clusters. <b>  Else we can use K-means algorithm (done in ML) where we can choose number of clusters beforehand.</b>\r\n",
        " - In <b> Object Tracking </b>, Meanshift can calculate the color histogram of the target area, and then keep sliding the tracking window to the closest match.\r\n",
        " - Meanshift won't change the window size if the target moves away or towards the camera. But we can use CAMShift to update the size of the window <b> (new ROI and orientation is adjusted and again Meanshift is applied to new scaled window) </b>\r\n",
        "\r\n"
      ]
    }
  ]
}